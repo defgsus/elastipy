{
 "cells": [
  {
   "cell_type": "markdown",
   "metadata": {},
   "source": [
    "# don't be plastic, elastipy!"
   ]
  },
  {
   "cell_type": "markdown",
   "metadata": {},
   "source": [
    "Hi there, this tutorial is actually a [jupyter notebook](https://jupyter.org/) and can be found in [examples](https://github.com/defgsus/elastipy/blob/development/examples/)/[tutorial.ipynb](https://github.com/defgsus/elastipy/blob/development/examples/tutorial.ipynb)"
   ]
  },
  {
   "cell_type": "code",
   "execution_count": 1,
   "metadata": {},
   "outputs": [],
   "source": [
    "# hidden\n",
    "\n",
    "# here we just add the parent path of this notebook to \n",
    "# the path list where python modules are searched.\n",
    "# So we find elastipy even if it's not installed via setup.py\n",
    "import sys\n",
    "sys.path.insert(0, \"..\")"
   ]
  },
  {
   "cell_type": "markdown",
   "metadata": {},
   "source": [
    "## exporting some objects"
   ]
  },
  {
   "cell_type": "markdown",
   "metadata": {},
   "source": [
    "Without too much thinking we can just use the built-in export helper\n",
    "and generate some data."
   ]
  },
  {
   "cell_type": "code",
   "execution_count": 2,
   "metadata": {},
   "outputs": [],
   "source": [
    "from elastipy import Exporter\n",
    "\n",
    "class ShapeExporter(Exporter):\n",
    "    INDEX_NAME = \"elastipy-example-shapes\"\n",
    "    MAPPINGS = {\n",
    "        \"properties\": {\n",
    "            \"shape\": {\"type\": \"keyword\"},\n",
    "            \"color\": {\"type\": \"keyword\"},\n",
    "            \"area\": {\"type\": \"float\"},\n",
    "        }\n",
    "    }"
   ]
  },
  {
   "cell_type": "markdown",
   "metadata": {},
   "source": [
    "The **INDEX_NAME** is obviously the name of the elasticsearch index. \n",
    "The **MAPPINGS** parameter describes the \n",
    "[elasticsearch mapping](https://www.elastic.co/guide/en/elasticsearch/reference/current/mapping.html). \n",
    "Here we say that documents will at least have these common fields, \n",
    "one of type **float** and two of type **keyword** which means they \n",
    "are strings but not full-text searchable ones. Instead they are \n",
    "efficiently indexed and aggregatable."
   ]
  },
  {
   "cell_type": "markdown",
   "metadata": {},
   "source": [
    "The data we create out of thin air.. "
   ]
  },
  {
   "cell_type": "code",
   "execution_count": 3,
   "metadata": {},
   "outputs": [],
   "source": [
    "import random\n",
    "\n",
    "def shape_generator(count=1000):\n",
    "    for i in range(count):\n",
    "        yield {\n",
    "            \"shape\": random.choice((\"triangle\", \"square\")),\n",
    "            \"color\": random.choice((\"red\", \"green\", \"blue\")),\n",
    "            \"area\": random.gauss(5, 1.3),\n",
    "        }"
   ]
  },
  {
   "cell_type": "markdown",
   "metadata": {},
   "source": [
    "Now create our exporter and export a couple of documents. It uses the [bulk helper tools](https://elasticsearch-py.readthedocs.io/en/7.10.0/helpers.html#bulk-helpers) internally."
   ]
  },
  {
   "cell_type": "code",
   "execution_count": 4,
   "metadata": {},
   "outputs": [
    {
     "name": "stdout",
     "output_type": "stream",
     "text": [
      "1000 exported\n"
     ]
    }
   ],
   "source": [
    "exporter = ShapeExporter()\n",
    "\n",
    "count, errors = exporter.export_list(shape_generator(), refresh=True)\n",
    "\n",
    "print(count, \"exported\")"
   ]
  },
  {
   "cell_type": "markdown",
   "metadata": {},
   "source": [
    "The `refresh=True` parameter will refresh the index as soon as everything is exported, so we do not have to wait for objects to appear in the elasticsearch index. "
   ]
  },
  {
   "cell_type": "markdown",
   "metadata": {},
   "source": [
    "## query oh elastipyia "
   ]
  },
  {
   "cell_type": "markdown",
   "metadata": {},
   "source": [
    "In most cases this import is enough to access all the good stuff:"
   ]
  },
  {
   "cell_type": "code",
   "execution_count": 5,
   "metadata": {},
   "outputs": [],
   "source": [
    "from elastipy import Search, query"
   ]
  },
  {
   "cell_type": "markdown",
   "metadata": {},
   "source": [
    "Now get some documents:"
   ]
  },
  {
   "cell_type": "code",
   "execution_count": 6,
   "metadata": {},
   "outputs": [],
   "source": [
    "s = Search(index=\"elastipy-example-shapes\")"
   ]
  },
  {
   "cell_type": "markdown",
   "metadata": {},
   "source": [
    "**s** is now a search request that can be configured. Setting any search related options will always return a new instance. Here we set the maximum number of documents to respond:"
   ]
  },
  {
   "cell_type": "code",
   "execution_count": 7,
   "metadata": {},
   "outputs": [],
   "source": [
    "s = s.size(3)"
   ]
  },
  {
   "cell_type": "markdown",
   "metadata": {},
   "source": [
    "Next we add a [query](https://www.elastic.co/guide/en/elasticsearch/reference/current/query-dsl.html), more specifically a [term query](https://www.elastic.co/guide/en/elasticsearch/reference/current/query-dsl-term-query.html)."
   ]
  },
  {
   "cell_type": "code",
   "execution_count": 8,
   "metadata": {},
   "outputs": [],
   "source": [
    "s = s.term(field=\"color\", value=\"green\")"
   ]
  },
  {
   "cell_type": "markdown",
   "metadata": {},
   "source": [
    "Our request to elasticsearch would look like this right now:"
   ]
  },
  {
   "cell_type": "code",
   "execution_count": 9,
   "metadata": {},
   "outputs": [
    {
     "name": "stdout",
     "output_type": "stream",
     "text": [
      "{\n",
      "  \"query\": {\n",
      "    \"term\": {\n",
      "      \"color\": {\n",
      "        \"value\": \"green\"\n",
      "      }\n",
      "    }\n",
      "  },\n",
      "  \"size\": 3\n",
      "}\n"
     ]
    }
   ],
   "source": [
    "s.dump.body()"
   ]
  },
  {
   "cell_type": "markdown",
   "metadata": {},
   "source": [
    "More queries can be added, which defaults to an **AND** combination:"
   ]
  },
  {
   "cell_type": "code",
   "execution_count": 10,
   "metadata": {},
   "outputs": [
    {
     "name": "stdout",
     "output_type": "stream",
     "text": [
      "{\n",
      "  \"query\": {\n",
      "    \"bool\": {\n",
      "      \"must\": [\n",
      "        {\n",
      "          \"term\": {\n",
      "            \"color\": {\n",
      "              \"value\": \"green\"\n",
      "            }\n",
      "          }\n",
      "        },\n",
      "        {\n",
      "          \"range\": {\n",
      "            \"area\": {\n",
      "              \"gt\": 5.0\n",
      "            }\n",
      "          }\n",
      "        }\n",
      "      ]\n",
      "    }\n",
      "  },\n",
      "  \"size\": 3\n",
      "}\n"
     ]
    }
   ],
   "source": [
    "s = s.range(field=\"area\", gt=5.)\n",
    "s.dump.body()"
   ]
  },
  {
   "cell_type": "markdown",
   "metadata": {},
   "source": [
    "**OR** combinations can be archived with the [bool](https://www.elastic.co/guide/en/elasticsearch/reference/current/query-dsl-bool-query.html) query itself or by applying the `|` operator to the query classes in `elastipy.query`:"
   ]
  },
  {
   "cell_type": "code",
   "execution_count": 11,
   "metadata": {},
   "outputs": [
    {
     "name": "stdout",
     "output_type": "stream",
     "text": [
      "{\n",
      "  \"query\": {\n",
      "    \"bool\": {\n",
      "      \"should\": [\n",
      "        {\n",
      "          \"bool\": {\n",
      "            \"must\": [\n",
      "              {\n",
      "                \"term\": {\n",
      "                  \"color\": {\n",
      "                    \"value\": \"green\"\n",
      "                  }\n",
      "                }\n",
      "              },\n",
      "              {\n",
      "                \"range\": {\n",
      "                  \"area\": {\n",
      "                    \"gt\": 5.0\n",
      "                  }\n",
      "                }\n",
      "              }\n",
      "            ]\n",
      "          }\n",
      "        },\n",
      "        {\n",
      "          \"bool\": {\n",
      "            \"must\": [\n",
      "              {\n",
      "                \"term\": {\n",
      "                  \"color\": {\n",
      "                    \"value\": \"red\"\n",
      "                  }\n",
      "                }\n",
      "              },\n",
      "              {\n",
      "                \"range\": {\n",
      "                  \"area\": {\n",
      "                    \"gt\": 8.0\n",
      "                  }\n",
      "                }\n",
      "              }\n",
      "            ]\n",
      "          }\n",
      "        }\n",
      "      ]\n",
      "    }\n",
      "  },\n",
      "  \"size\": 3\n",
      "}\n"
     ]
    }
   ],
   "source": [
    "s = s | (query.Term(field=\"color\", value=\"red\") & query.Range(field=\"area\", gt=8.))\n",
    "s.dump.body()"
   ]
  },
  {
   "cell_type": "markdown",
   "metadata": {},
   "source": [
    "Better execute the search now before the body get's too complicated:"
   ]
  },
  {
   "cell_type": "code",
   "execution_count": 12,
   "metadata": {
    "scrolled": false
   },
   "outputs": [
    {
     "name": "stdout",
     "output_type": "stream",
     "text": [
      "{\n",
      "  \"took\": 0,\n",
      "  \"timed_out\": false,\n",
      "  \"_shards\": {\n",
      "    \"total\": 1,\n",
      "    \"successful\": 1,\n",
      "    \"skipped\": 0,\n",
      "    \"failed\": 0\n",
      "  },\n",
      "  \"hits\": {\n",
      "    \"total\": 160,\n",
      "    \"max_score\": 2.154596,\n",
      "    \"hits\": [\n",
      "      {\n",
      "        \"_index\": \"elastipy-example-shapes\",\n",
      "        \"_type\": \"_doc\",\n",
      "        \"_id\": \"TH7KEHcBeebHNMb69m1W\",\n",
      "        \"_score\": 2.154596,\n",
      "        \"_source\": {\n",
      "          \"shape\": \"square\",\n",
      "          \"color\": \"green\",\n",
      "          \"area\": 6.543273375217643\n",
      "        }\n",
      "      },\n",
      "      {\n",
      "        \"_index\": \"elastipy-example-shapes\",\n",
      "        \"_type\": \"_doc\",\n",
      "        \"_id\": \"TX7KEHcBeebHNMb69m1W\",\n",
      "        \"_score\": 2.154596,\n",
      "        \"_source\": {\n",
      "          \"shape\": \"triangle\",\n",
      "          \"color\": \"green\",\n",
      "          \"area\": 5.611009661036956\n",
      "        }\n",
      "      },\n",
      "      {\n",
      "        \"_index\": \"elastipy-example-shapes\",\n",
      "        \"_type\": \"_doc\",\n",
      "        \"_id\": \"W37KEHcBeebHNMb69m1W\",\n",
      "        \"_score\": 2.154596,\n",
      "        \"_source\": {\n",
      "          \"shape\": \"square\",\n",
      "          \"color\": \"green\",\n",
      "          \"area\": 5.281786711402612\n",
      "        }\n",
      "      }\n",
      "    ]\n",
      "  }\n",
      "}\n"
     ]
    }
   ],
   "source": [
    "response = s.execute()\n",
    "response.dump()"
   ]
  },
  {
   "cell_type": "markdown",
   "metadata": {},
   "source": [
    "The response object is a small wrapper around `dict` that has some convenience properties."
   ]
  },
  {
   "cell_type": "code",
   "execution_count": 13,
   "metadata": {},
   "outputs": [
    {
     "data": {
      "text/plain": [
       "[{'shape': 'square', 'color': 'green', 'area': 6.543273375217643},\n",
       " {'shape': 'triangle', 'color': 'green', 'area': 5.611009661036956},\n",
       " {'shape': 'square', 'color': 'green', 'area': 5.281786711402612}]"
      ]
     },
     "execution_count": 13,
     "metadata": {},
     "output_type": "execute_result"
    }
   ],
   "source": [
    "response.documents"
   ]
  },
  {
   "cell_type": "markdown",
   "metadata": {},
   "source": [
    "How many documents are there at all?"
   ]
  },
  {
   "cell_type": "code",
   "execution_count": 14,
   "metadata": {},
   "outputs": [
    {
     "data": {
      "text/plain": [
       "1000"
      ]
     },
     "execution_count": 14,
     "metadata": {},
     "output_type": "execute_result"
    }
   ],
   "source": [
    "Search(index=\"elastipy-example-shapes\").execute().total_hits"
   ]
  },
  {
   "cell_type": "markdown",
   "metadata": {},
   "source": [
    "---\n",
    "\n",
    "The functions and properties are tried to make chainable in a way that allows for short and powerful oneliners: "
   ]
  },
  {
   "cell_type": "code",
   "execution_count": 15,
   "metadata": {},
   "outputs": [
    {
     "data": {
      "text/plain": [
       "[{'shape': 'triangle', 'color': 'green', 'area': 9.962024250462207},\n",
       " {'shape': 'triangle', 'color': 'blue', 'area': 9.12632364600138},\n",
       " {'shape': 'square', 'color': 'blue', 'area': 8.527480706290765},\n",
       " {'shape': 'square', 'color': 'green', 'area': 8.224164736727934},\n",
       " {'shape': 'triangle', 'color': 'red', 'area': 8.196363103922524},\n",
       " {'shape': 'triangle', 'color': 'red', 'area': 8.160963777447773},\n",
       " {'shape': 'square', 'color': 'green', 'area': 8.138837482353818},\n",
       " {'shape': 'square', 'color': 'red', 'area': 8.09711002892048},\n",
       " {'shape': 'triangle', 'color': 'green', 'area': 7.782962587092941},\n",
       " {'shape': 'square', 'color': 'blue', 'area': 7.736767462661158},\n",
       " {'shape': 'triangle', 'color': 'green', 'area': 7.723840760372157},\n",
       " {'shape': 'triangle', 'color': 'blue', 'area': 7.721282069326273},\n",
       " {'shape': 'square', 'color': 'blue', 'area': 7.670322746991758},\n",
       " {'shape': 'triangle', 'color': 'red', 'area': 7.628216743355577},\n",
       " {'shape': 'triangle', 'color': 'green', 'area': 7.527821191929616},\n",
       " {'shape': 'triangle', 'color': 'blue', 'area': 7.518633102685758},\n",
       " {'shape': 'square', 'color': 'blue', 'area': 7.453606315910466},\n",
       " {'shape': 'square', 'color': 'green', 'area': 7.436836742950136},\n",
       " {'shape': 'triangle', 'color': 'blue', 'area': 7.433882367916132},\n",
       " {'shape': 'triangle', 'color': 'green', 'area': 7.4305474145696655}]"
      ]
     },
     "execution_count": 15,
     "metadata": {},
     "output_type": "execute_result"
    }
   ],
   "source": [
    "Search(index=\"elastipy-example-shapes\") \\\n",
    "    .size(20).sort(\"-area\").execute().documents"
   ]
  },
  {
   "cell_type": "markdown",
   "metadata": {},
   "source": [
    "So this was the document response. Let's dive inside and start aggregating on fields."
   ]
  },
  {
   "cell_type": "markdown",
   "metadata": {},
   "source": [
    "## agitated aggregation"
   ]
  },
  {
   "cell_type": "markdown",
   "metadata": {},
   "source": [
    "Aggregations can be created using the `agg_`, `metric_` and `pipeline_` prefixes. An aggregation is **attached** to the `Search` instance, so there is no copying like with the queries above."
   ]
  },
  {
   "cell_type": "code",
   "execution_count": 16,
   "metadata": {},
   "outputs": [
    {
     "name": "stdout",
     "output_type": "stream",
     "text": [
      "{\n",
      "  \"aggregations\": {\n",
      "    \"a0\": {\n",
      "      \"terms\": {\n",
      "        \"field\": \"shape\"\n",
      "      }\n",
      "    }\n",
      "  },\n",
      "  \"query\": {\n",
      "    \"match_all\": {}\n",
      "  },\n",
      "  \"size\": 0\n",
      "}\n"
     ]
    }
   ],
   "source": [
    "s = Search(index=\"elastipy-example-shapes\").size(0)\n",
    "\n",
    "agg = s.agg_terms(field=\"shape\")\n",
    "\n",
    "s.dump.body()"
   ]
  },
  {
   "cell_type": "markdown",
   "metadata": {},
   "source": [
    "As we can see, a [terms aggregation](https://www.elastic.co/guide/en/elasticsearch/reference/current/search-aggregations-bucket-terms-aggregation.html)\n",
    "has been added to the search body. The names of aggregations are auto-generated, but can be explicitly stated:"
   ]
  },
  {
   "cell_type": "code",
   "execution_count": 17,
   "metadata": {},
   "outputs": [
    {
     "name": "stdout",
     "output_type": "stream",
     "text": [
      "{\n",
      "  \"aggregations\": {\n",
      "    \"shapes\": {\n",
      "      \"terms\": {\n",
      "        \"field\": \"shape\"\n",
      "      }\n",
      "    }\n",
      "  },\n",
      "  \"query\": {\n",
      "    \"match_all\": {}\n",
      "  },\n",
      "  \"size\": 0\n",
      "}\n"
     ]
    }
   ],
   "source": [
    "s = Search(index=\"elastipy-example-shapes\").size(0)\n",
    "\n",
    "agg = s.agg_terms(\"shapes\", field=\"shape\")\n",
    "\n",
    "s.dump.body()"
   ]
  },
  {
   "cell_type": "markdown",
   "metadata": {},
   "source": [
    "Let's look at the result from elasticsearch:"
   ]
  },
  {
   "cell_type": "code",
   "execution_count": 18,
   "metadata": {},
   "outputs": [
    {
     "name": "stdout",
     "output_type": "stream",
     "text": [
      "{\n",
      "  \"took\": 1,\n",
      "  \"timed_out\": false,\n",
      "  \"_shards\": {\n",
      "    \"total\": 1,\n",
      "    \"successful\": 1,\n",
      "    \"skipped\": 0,\n",
      "    \"failed\": 0\n",
      "  },\n",
      "  \"hits\": {\n",
      "    \"total\": 1000,\n",
      "    \"max_score\": null,\n",
      "    \"hits\": []\n",
      "  },\n",
      "  \"aggregations\": {\n",
      "    \"shapes\": {\n",
      "      \"doc_count_error_upper_bound\": 0,\n",
      "      \"sum_other_doc_count\": 0,\n",
      "      \"buckets\": [\n",
      "        {\n",
      "          \"key\": \"square\",\n",
      "          \"doc_count\": 507\n",
      "        },\n",
      "        {\n",
      "          \"key\": \"triangle\",\n",
      "          \"doc_count\": 493\n",
      "        }\n",
      "      ]\n",
      "    }\n",
      "  }\n",
      "}\n"
     ]
    }
   ],
   "source": [
    "s.execute()\n",
    "s.dump.response()"
   ]
  },
  {
   "cell_type": "markdown",
   "metadata": {},
   "source": [
    "### valuable access"
   ]
  },
  {
   "cell_type": "markdown",
   "metadata": {},
   "source": [
    "Because we kept the `agg` variable, we can use it's interface to access the values more conveniently:"
   ]
  },
  {
   "cell_type": "code",
   "execution_count": 19,
   "metadata": {},
   "outputs": [
    {
     "data": {
      "text/plain": [
       "{'square': 507, 'triangle': 493}"
      ]
     },
     "execution_count": 19,
     "metadata": {},
     "output_type": "execute_result"
    }
   ],
   "source": [
    "agg.to_dict()"
   ]
  },
  {
   "cell_type": "markdown",
   "metadata": {},
   "source": [
    "It supports the `items()`, `keys()` and `values()` generators as known from the `dict` type:"
   ]
  },
  {
   "cell_type": "code",
   "execution_count": 20,
   "metadata": {},
   "outputs": [
    {
     "name": "stdout",
     "output_type": "stream",
     "text": [
      "square       507\n",
      "triangle     493\n"
     ]
    }
   ],
   "source": [
    "for key, value in agg.items():\n",
    "    print(f\"{key:12} {value}\")"
   ]
  },
  {
   "cell_type": "markdown",
   "metadata": {},
   "source": [
    "It also has a `dict_rows()` generator which preserves the **names** and **keys** of the aggregation:"
   ]
  },
  {
   "cell_type": "code",
   "execution_count": 21,
   "metadata": {},
   "outputs": [
    {
     "name": "stdout",
     "output_type": "stream",
     "text": [
      "{'shapes': 'square', 'shapes.doc_count': 507}\n",
      "{'shapes': 'triangle', 'shapes.doc_count': 493}\n"
     ]
    }
   ],
   "source": [
    "for row in agg.dict_rows():\n",
    "    print(row)"
   ]
  },
  {
   "cell_type": "markdown",
   "metadata": {},
   "source": [
    "The `rows()` generator flattens the `dict_rows()` into a CSV-style list:"
   ]
  },
  {
   "cell_type": "code",
   "execution_count": 22,
   "metadata": {},
   "outputs": [
    {
     "name": "stdout",
     "output_type": "stream",
     "text": [
      "['shapes', 'shapes.doc_count']\n",
      "['square', 507]\n",
      "['triangle', 493]\n"
     ]
    }
   ],
   "source": [
    "for row in agg.rows():\n",
    "    print(row)"
   ]
  },
  {
   "cell_type": "markdown",
   "metadata": {},
   "source": [
    "And we can print a nice table to the command-line:"
   ]
  },
  {
   "cell_type": "code",
   "execution_count": 23,
   "metadata": {},
   "outputs": [
    {
     "name": "stdout",
     "output_type": "stream",
     "text": [
      "shapes   │ shapes.doc_count                           \n",
      "─────────┼────────────────────────────────────────────\n",
      "square   │ 507 ███████████████████████████████████████\n",
      "triangle │ 493 █████████████████████████████████████▉ \n"
     ]
    }
   ],
   "source": [
    "agg.dump.table(colors=False)"
   ]
  },
  {
   "cell_type": "markdown",
   "metadata": {},
   "source": [
    "(The `colors=False` parameter disables console colors because they do not work in this documentation)  "
   ]
  },
  {
   "cell_type": "markdown",
   "metadata": {},
   "source": [
    "---\n",
    "Obviously, at this point a couple of users would not understand why there is no conversion to a \n",
    "[pandas DataFrame](https://pandas.pydata.org/pandas-docs/stable/reference/api/pandas.DataFrame.html) built in:"
   ]
  },
  {
   "cell_type": "code",
   "execution_count": 24,
   "metadata": {},
   "outputs": [
    {
     "data": {
      "text/html": [
       "<div>\n",
       "<style scoped>\n",
       "    .dataframe tbody tr th:only-of-type {\n",
       "        vertical-align: middle;\n",
       "    }\n",
       "\n",
       "    .dataframe tbody tr th {\n",
       "        vertical-align: top;\n",
       "    }\n",
       "\n",
       "    .dataframe thead th {\n",
       "        text-align: right;\n",
       "    }\n",
       "</style>\n",
       "<table border=\"1\" class=\"dataframe\">\n",
       "  <thead>\n",
       "    <tr style=\"text-align: right;\">\n",
       "      <th></th>\n",
       "      <th>shapes.doc_count</th>\n",
       "    </tr>\n",
       "    <tr>\n",
       "      <th>shapes</th>\n",
       "      <th></th>\n",
       "    </tr>\n",
       "  </thead>\n",
       "  <tbody>\n",
       "    <tr>\n",
       "      <th>square</th>\n",
       "      <td>507</td>\n",
       "    </tr>\n",
       "    <tr>\n",
       "      <th>triangle</th>\n",
       "      <td>493</td>\n",
       "    </tr>\n",
       "  </tbody>\n",
       "</table>\n",
       "</div>"
      ],
      "text/plain": [
       "          shapes.doc_count\n",
       "shapes                    \n",
       "square                 507\n",
       "triangle               493"
      ]
     },
     "execution_count": 24,
     "metadata": {},
     "output_type": "execute_result"
    }
   ],
   "source": [
    "agg.to_pandas()  # or simply agg.df()"
   ]
  },
  {
   "cell_type": "markdown",
   "metadata": {},
   "source": [
    "The **index** and **columns** are assigned automatically. Also columns containing ISO-formatted date strings will be converted to `pandas.Timestamp`.\n",
    "\n",
    "With `matplotlib` installed we can access the [pandas plotting interface](https://pandas.pydata.org/pandas-docs/stable/reference/api/pandas.DataFrame.plot.html):  "
   ]
  },
  {
   "cell_type": "code",
   "execution_count": 25,
   "metadata": {},
   "outputs": [
    {
     "data": {
      "text/plain": [
       "<AxesSubplot:xlabel='shapes'>"
      ]
     },
     "execution_count": 25,
     "metadata": {},
     "output_type": "execute_result"
    },
    {
     "data": {
      "image/png": "[encoded data removed]",
      "text/plain": [
       "<Figure size 432x288 with 1 Axes>"
      ]
     },
     "metadata": {
      "needs_background": "light"
     },
     "output_type": "display_data"
    }
   ],
   "source": [
    "agg.df().plot.bar()"
   ]
  },
  {
   "cell_type": "markdown",
   "metadata": {},
   "source": [
    "Now let's look into the details when **metrics** or nested **bucket** aggregations are involved."
   ]
  },
  {
   "cell_type": "markdown",
   "metadata": {},
   "source": [
    "### deeper aggregation agitation "
   ]
  },
  {
   "cell_type": "code",
   "execution_count": 26,
   "metadata": {},
   "outputs": [],
   "source": [
    "agg = Search(index=\"elastipy-example-shapes\") \\\n",
    "    .agg_terms(\"shapes\", field=\"shape\") \\\n",
    "    .agg_terms(\"colors\", field=\"color\") \\\n",
    "    .metric_sum(\"area\", field=\"area\") \\\n",
    "    .metric_avg(\"avg-area\", field=\"area\") \\\n",
    "    .execute()"
   ]
  },
  {
   "cell_type": "markdown",
   "metadata": {},
   "source": [
    "A few notes:\n",
    "\n",
    "  - `agg_` methods always return the newly created aggregation, so the `colors` aggregation is nested inside the `shapes` aggregation.\n",
    "  - `metric_` methods return their parent aggregation (because metrics do not allow a nested aggregation), so we can just continue to call `metric_*` and each time we add a metric to the `colors` aggregation. If you need to get access to the metric object itself add the `return_self=True` parameter.\n",
    "  - The `execute` method on an aggregation does not return the response but the aggregation itself.\n",
    "  \n",
    "Now, what does the `to_dict` output look like?"
   ]
  },
  {
   "cell_type": "code",
   "execution_count": 27,
   "metadata": {},
   "outputs": [
    {
     "data": {
      "text/plain": [
       "{('square', 'blue'): 181,\n",
       " ('square', 'green'): 166,\n",
       " ('square', 'red'): 160,\n",
       " ('triangle', 'blue'): 180,\n",
       " ('triangle', 'red'): 164,\n",
       " ('triangle', 'green'): 149}"
      ]
     },
     "execution_count": 27,
     "metadata": {},
     "output_type": "execute_result"
    }
   ],
   "source": [
    "agg.to_dict()"
   ]
  },
  {
   "cell_type": "markdown",
   "metadata": {},
   "source": [
    "It has put the **keys** that lead to each value into tuples. Without a lot of thinking we can say:"
   ]
  },
  {
   "cell_type": "code",
   "execution_count": 28,
   "metadata": {},
   "outputs": [
    {
     "name": "stdout",
     "output_type": "stream",
     "text": [
      "There are 164 red triangles in the database!\n"
     ]
    }
   ],
   "source": [
    "data = agg.to_dict()\n",
    "print(f\"There are {data[('triangle', 'red')]} red triangles in the database!\")"
   ]
  },
  {
   "cell_type": "markdown",
   "metadata": {},
   "source": [
    "But where are the metrics gone?\n",
    "\n",
    "Generally, `keys()`, `values()`, `items()`, `to_dict()` and `to_matrix()` only access the values of the **current aggregation** (which is `colors` in the example). Although all the keys of the parent **bucket** aggregations that lead to the values are included.\n",
    "\n",
    "The methods `dict_rows()`, `rows()`, `to_pandas()` and `.dump.table()` will access **all values** from the whole aggregation branch. In this example the branch looks like this:\n",
    "\n",
    "- shapes\n",
    "  - colors\n",
    "    - area\n",
    "    - avg-area"
   ]
  },
  {
   "cell_type": "code",
   "execution_count": 34,
   "metadata": {},
   "outputs": [
    {
     "name": "stdout",
     "output_type": "stream",
     "text": [
      "shapes   │ shapes.doc_count    │ colors │ colors.doc_count    │ area                    │ avg-area            \n",
      "─────────┼─────────────────────┼────────┼─────────────────────┼─────────────────────────┼─────────────────────\n",
      "square   │ 507 ███████████████ │ blue   │ 181 ███████████████ │ 915.048 ███████████████ │ 5.056 █████████████▉\n",
      "square   │ 507 ███████████████ │ green  │ 166 █████████████▊  │ 812.956 █████████████▌  │ 4.897 █████████████▋\n",
      "square   │ 507 ███████████████ │ red    │ 160 █████████████▍  │ 780.663 ████████████▉   │ 4.879 █████████████▌\n",
      "triangle │ 493 ██████████████▋ │ blue   │ 180 ██████████████▉ │ 905.923 ██████████████▉ │ 5.033 █████████████▉\n",
      "triangle │ 493 ██████████████▋ │ red    │ 164 █████████████▋  │ 821.704 █████████████▌  │  5.01 █████████████▉\n",
      "triangle │ 493 ██████████████▋ │ green  │ 149 ████████████▌   │ 751.365 ████████████▌   │ 5.043 █████████████▉\n"
     ]
    }
   ],
   "source": [
    "agg.dump.table(digits=3, colors=False)"
   ]
  },
  {
   "cell_type": "markdown",
   "metadata": {},
   "source": [
    "Now all information is in the table. Note that the `shapes.doc_count` column contains the same value multiple times. This is because each `colors` aggregation bucket splits the `shapes` bucket into multiple results, without changing the overall count of the shapes, of course. "
   ]
  },
  {
   "cell_type": "markdown",
   "metadata": {},
   "source": [
    "Now what is this method with the awesome name `to_matrix`?"
   ]
  },
  {
   "cell_type": "code",
   "execution_count": 30,
   "metadata": {},
   "outputs": [
    {
     "name": "stdout",
     "output_type": "stream",
     "text": [
      "names  ['shapes', 'colors']\n",
      "keys   [['square', 'triangle'], ['blue', 'green', 'red']]\n",
      "matrix [[181, 166, 160], [180, 149, 164]]\n"
     ]
    }
   ],
   "source": [
    "names, keys, matrix = agg.to_matrix()\n",
    "print(\"names \", names)\n",
    "print(\"keys  \", keys)\n",
    "print(\"matrix\", matrix)"
   ]
  },
  {
   "cell_type": "markdown",
   "metadata": {},
   "source": [
    "It produces a heatmap! At least in two dimensions. In this example we have two dimensions from the **bucket** aggregations `shapes` and `colors`. `to_matrix()` will produce a matrix with any number of dimensions, but if it's one or two, we can also convert it to a `DataFrame`:"
   ]
  },
  {
   "cell_type": "code",
   "execution_count": 31,
   "metadata": {},
   "outputs": [
    {
     "data": {
      "text/html": [
       "<div>\n",
       "<style scoped>\n",
       "    .dataframe tbody tr th:only-of-type {\n",
       "        vertical-align: middle;\n",
       "    }\n",
       "\n",
       "    .dataframe tbody tr th {\n",
       "        vertical-align: top;\n",
       "    }\n",
       "\n",
       "    .dataframe thead th {\n",
       "        text-align: right;\n",
       "    }\n",
       "</style>\n",
       "<table border=\"1\" class=\"dataframe\">\n",
       "  <thead>\n",
       "    <tr style=\"text-align: right;\">\n",
       "      <th></th>\n",
       "      <th>blue</th>\n",
       "      <th>green</th>\n",
       "      <th>red</th>\n",
       "    </tr>\n",
       "  </thead>\n",
       "  <tbody>\n",
       "    <tr>\n",
       "      <th>square</th>\n",
       "      <td>181</td>\n",
       "      <td>166</td>\n",
       "      <td>160</td>\n",
       "    </tr>\n",
       "    <tr>\n",
       "      <th>triangle</th>\n",
       "      <td>180</td>\n",
       "      <td>149</td>\n",
       "      <td>164</td>\n",
       "    </tr>\n",
       "  </tbody>\n",
       "</table>\n",
       "</div>"
      ],
      "text/plain": [
       "          blue  green  red\n",
       "square     181    166  160\n",
       "triangle   180    149  164"
      ]
     },
     "execution_count": 31,
     "metadata": {},
     "output_type": "execute_result"
    }
   ],
   "source": [
    "agg.df_matrix()"
   ]
  },
  {
   "cell_type": "markdown",
   "metadata": {},
   "source": [
    "And having something like [seaborn](https://seaborn.pydata.org/) installed we can easily plot it:"
   ]
  },
  {
   "cell_type": "code",
   "execution_count": 32,
   "metadata": {},
   "outputs": [
    {
     "data": {
      "text/plain": [
       "<AxesSubplot:>"
      ]
     },
     "execution_count": 32,
     "metadata": {},
     "output_type": "execute_result"
    },
    {
     "data": {
      "image/png": "[encoded data removed]",
      "text/plain": [
       "<Figure size 432x288 with 2 Axes>"
      ]
     },
     "metadata": {
      "needs_background": "light"
     },
     "output_type": "display_data"
    }
   ],
   "source": [
    "import seaborn as sns\n",
    "\n",
    "sns.heatmap(agg.df_matrix())"
   ]
  },
  {
   "cell_type": "code",
   "execution_count": null,
   "metadata": {},
   "outputs": [],
   "source": []
  }
 ],
 "metadata": {
  "kernelspec": {
   "display_name": "Python 3",
   "language": "python",
   "name": "python3"
  },
  "language_info": {
   "codemirror_mode": {
    "name": "ipython",
    "version": 3
   },
   "file_extension": ".py",
   "mimetype": "text/x-python",
   "name": "python",
   "nbconvert_exporter": "python",
   "pygments_lexer": "ipython3",
   "version": "3.6.9"
  },
  "pycharm": {
   "stem_cell": {
    "cell_type": "raw",
    "source": [],
    "metadata": {
     "collapsed": false
    }
   }
  }
 },
 "nbformat": 4,
 "nbformat_minor": 4
}