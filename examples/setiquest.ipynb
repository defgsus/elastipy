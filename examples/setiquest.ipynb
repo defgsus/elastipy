{
 "cells": [
  {
   "cell_type": "code",
   "execution_count": null,
   "metadata": {},
   "outputs": [],
   "source": [
    "# hidden-but-run\n",
    "import sys\n",
    "sys.path.insert(0, \"..\")"
   ]
  },
  {
   "cell_type": "code",
   "execution_count": null,
   "metadata": {},
   "outputs": [],
   "source": [
    "from elastipy import Search, query, connections\n",
    "conn = connections.get()"
   ]
  },
  {
   "cell_type": "code",
   "execution_count": null,
   "metadata": {},
   "outputs": [],
   "source": [
    "INDEX = \"elastipy-example-setiquest-irc\" "
   ]
  },
  {
   "cell_type": "code",
   "execution_count": null,
   "metadata": {},
   "outputs": [],
   "source": [
    "agg = Search(index=INDEX) \\\n",
    "    .agg_date_histogram(\"month\", calendar_interval=\"month\")\n",
    "    \n",
    "agg.execute().plot(to_index=\"month\", kind=\"bar\", figsize=(14, 4))"
   ]
  },
  {
   "cell_type": "code",
   "execution_count": null,
   "metadata": {},
   "outputs": [],
   "source": [
    "agg = Search(index=INDEX) \\\n",
    "    .agg_date_histogram(\"month\", calendar_interval=\"month\") \\\n",
    "    .agg_terms(\"event\", field=\"event\")\n",
    "    \n",
    "df = agg.execute().df(to_index=\"month\", flat=\"event\", exclude=\"*.doc_count\")\n",
    "df.plot.bar(figsize=(14, 4), stacked=True)"
   ]
  },
  {
   "cell_type": "code",
   "execution_count": null,
   "metadata": {},
   "outputs": [],
   "source": []
  },
  {
   "cell_type": "code",
   "execution_count": null,
   "metadata": {},
   "outputs": [],
   "source": [
    "KEYWORDS = [\n",
    "    \"radio\", \"telescope\", \"meeting\", \"setiquest\", \n",
    "    \"form\", \"wiki\", \"community\", \"code\", \"project\",\n",
    "    \"work\", \"help\", \"question\", \"alien\", \"ufo\",\n",
    "    \"analysis\", \"source\", \"signal\", \"seti\", \"detect\",\n",
    "    \"data\", \"thank\"\n",
    "]\n",
    "agg = Search(index=INDEX) \\\n",
    "    .agg_filters(\"keyword\", filters={\n",
    "        key: query.QueryString(f\"text: *{key}*\")\n",
    "        for key in KEYWORDS\n",
    "    }) \\\n",
    "    .metric_cardinality(\"users\", field=\"user\")\n",
    "\n",
    "agg.execute().dump.table(sort=\"-keyword.doc_count\")"
   ]
  },
  {
   "cell_type": "code",
   "execution_count": null,
   "metadata": {},
   "outputs": [],
   "source": [
    "agg = Search(index=INDEX) \\\n",
    "    .agg_filters(\"keyword\", filters={\n",
    "        key: query.QueryString(f\"text: *{key}*\")\n",
    "        for key in KEYWORDS\n",
    "    }) \\\n",
    "    .agg_date_histogram(\"year\", fixed_interval=\"90d\", min_doc_count=1)\n",
    "agg2 = agg.metric_cardinality(\"users\", field=\"user\", return_self=True)\n",
    "\n",
    "agg.execute().plot.heatmap(annot=True, fmt=\".0f\", figsize=(14, 7))\n",
    "agg2.plot.heatmap(annot=True, fmt=\".0f\", figsize=(14, 7))"
   ]
  },
  {
   "cell_type": "code",
   "execution_count": null,
   "metadata": {},
   "outputs": [],
   "source": [
    "s = Search(index=INDEX).match(\"text\", \"code\")\n",
    "print(list(s.agg_significant_terms(field=\"text\", size=100).execute().keys()))"
   ]
  },
  {
   "cell_type": "code",
   "execution_count": null,
   "metadata": {},
   "outputs": [],
   "source": []
  },
  {
   "cell_type": "code",
   "execution_count": null,
   "metadata": {},
   "outputs": [],
   "source": [
    "s = Search(index=INDEX)#.query_string(\"text: *signal*\")\n",
    "s.agg_significant_terms(field=\"text\", size=50).execute().dump.table(sort=-1)"
   ]
  },
  {
   "cell_type": "code",
   "execution_count": null,
   "metadata": {},
   "outputs": [],
   "source": []
  },
  {
   "cell_type": "code",
   "execution_count": null,
   "metadata": {},
   "outputs": [],
   "source": [
    "s = Search(index=INDEX)\n",
    "agg = s.agg_terms(field=\"text\")\n",
    "agg.metric_cardinality(field=\"user\")\n",
    "agg.execute().plot.line(\"a0\", \"a1\")"
   ]
  },
  {
   "cell_type": "code",
   "execution_count": null,
   "metadata": {},
   "outputs": [],
   "source": []
  },
  {
   "cell_type": "code",
   "execution_count": null,
   "metadata": {},
   "outputs": [],
   "source": [
    "Search(index=INDEX).execute().hits"
   ]
  },
  {
   "cell_type": "code",
   "execution_count": null,
   "metadata": {},
   "outputs": [],
   "source": []
  },
  {
   "cell_type": "code",
   "execution_count": null,
   "metadata": {},
   "outputs": [],
   "source": [
    "conn.termvectors(\n",
    "    index=INDEX, \n",
    "    id=\"20100928-3\",\n",
    "    term_statistics=True,\n",
    "    field_statistics=True,\n",
    ")"
   ]
  },
  {
   "cell_type": "code",
   "execution_count": null,
   "metadata": {},
   "outputs": [],
   "source": []
  }
 ],
 "metadata": {
  "kernelspec": {
   "display_name": "Python 3",
   "language": "python",
   "name": "python3"
  },
  "language_info": {
   "codemirror_mode": {
    "name": "ipython",
    "version": 3
   },
   "file_extension": ".py",
   "mimetype": "text/x-python",
   "name": "python",
   "nbconvert_exporter": "python",
   "pygments_lexer": "ipython3",
   "version": "3.6.9"
  }
 },
 "nbformat": 4,
 "nbformat_minor": 4
}
