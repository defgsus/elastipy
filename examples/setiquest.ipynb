{
 "cells": [
  {
   "cell_type": "code",
   "execution_count": 1,
   "metadata": {},
   "outputs": [],
   "source": [
    "# hidden-but-run\n",
    "import sys\n",
    "sys.path.insert(0, \"..\")"
   ]
  },
  {
   "cell_type": "code",
   "execution_count": 2,
   "metadata": {},
   "outputs": [],
   "source": [
    "from elastipy import Search, query, connections\n",
    "conn = connections.get()"
   ]
  },
  {
   "cell_type": "code",
   "execution_count": 3,
   "metadata": {},
   "outputs": [],
   "source": [
    "INDEX = \"elastipy-example-setiquest-irc\" "
   ]
  },
  {
   "cell_type": "code",
   "execution_count": 4,
   "metadata": {},
   "outputs": [
    {
     "data": {
      "text/plain": [
       "<AxesSubplot:xlabel='month'>"
      ]
     },
     "execution_count": 4,
     "metadata": {},
     "output_type": "execute_result"
    },
    {
     "data": {
      "image/png": "[encoded data removed]",
      "text/plain": [
       "<Figure size 1008x288 with 1 Axes>"
      ]
     },
     "metadata": {
      "needs_background": "light"
     },
     "output_type": "display_data"
    }
   ],
   "source": [
    "Search(index=INDEX) \\\n",
    "    .agg_date_histogram(\"month\", calendar_interval=\"month\") \\\n",
    "    .execute().df(to_index=\"month\").plot.bar(figsize=(14, 4))"
   ]
  },
  {
   "cell_type": "code",
   "execution_count": 63,
   "metadata": {},
   "outputs": [
    {
     "name": "stdout",
     "output_type": "stream",
     "text": [
      "keyword   │ keyword.doc_count                            │ users                                     \n",
      "──────────┼──────────────────────────────────────────────┼───────────────────────────────────────────\n",
      "seti      │ 3388 \u001b[1;34m██████████████████████████████████████▉\u001b[0m │ 99 \u001b[1;34m██████████████████████████████████████▉\u001b[0m\n",
      "setiquest │ 1749 \u001b[1;34m████████████████████▋                  \u001b[0m │ 72 \u001b[1;34m████████████████████████████▋          \u001b[0m\n",
      "work      │ 1026 \u001b[1;34m████████████▌                          \u001b[0m │ 63 \u001b[1;34m█████████████████████████▎             \u001b[0m\n",
      "wiki      │  812 \u001b[1;34m██████████                             \u001b[0m │ 55 \u001b[1;34m██████████████████████                 \u001b[0m\n",
      "project   │  747 \u001b[1;34m█████████▍                             \u001b[0m │ 66 \u001b[1;34m██████████████████████████▍            \u001b[0m\n",
      "meeting   │  491 \u001b[1;34m██████▌                                \u001b[0m │ 36 \u001b[1;34m██████████████▊                        \u001b[0m\n",
      "code      │  447 \u001b[1;34m█████▉                                 \u001b[0m │ 52 \u001b[1;34m████████████████████▉                  \u001b[0m\n",
      "community │  436 \u001b[1;34m█████▉                                 \u001b[0m │ 44 \u001b[1;34m█████████████████▉                     \u001b[0m\n",
      "form      │  387 \u001b[1;34m█████▍                                 \u001b[0m │ 53 \u001b[1;34m█████████████████████▍                 \u001b[0m\n",
      "signal    │  387 \u001b[1;34m█████▍                                 \u001b[0m │ 44 \u001b[1;34m█████████████████▉                     \u001b[0m\n",
      "question  │  382 \u001b[1;34m█████▎                                 \u001b[0m │ 45 \u001b[1;34m██████████████████▎                    \u001b[0m\n",
      "help      │  368 \u001b[1;34m█████                                  \u001b[0m │ 54 \u001b[1;34m█████████████████████▊                 \u001b[0m\n",
      "source    │  324 \u001b[1;34m████▋                                  \u001b[0m │ 38 \u001b[1;34m███████████████▌                       \u001b[0m\n",
      "telescope │  176 \u001b[1;34m██▉                                    \u001b[0m │ 33 \u001b[1;34m█████████████▋                         \u001b[0m\n",
      "detect    │  151 \u001b[1;34m██▋                                    \u001b[0m │ 25 \u001b[1;34m██████████▋                            \u001b[0m\n",
      "alien     │   78 \u001b[1;34m█▊                                     \u001b[0m │ 18 \u001b[1;34m███████▉                               \u001b[0m\n",
      "radio     │   53 \u001b[1;34m█▌                                     \u001b[0m │ 17 \u001b[1;34m███████▌                               \u001b[0m\n",
      "ufo       │    9 \u001b[1;34m█                                      \u001b[0m │  5 \u001b[1;34m██▉                                    \u001b[0m\n"
     ]
    }
   ],
   "source": [
    "KEYWORDS = [\n",
    "    \"radio\", \"telescope\", \"meeting\", \"setiquest\", \n",
    "    \"form\", \"wiki\", \"community\", \"code\", \"project\",\n",
    "    \"work\", \"help\", \"question\", \"alien\", \"ufo\",\n",
    "    #\"analysis\", \n",
    "    \"source\", \"signal\", \"seti\", \"detect\",\n",
    "]\n",
    "agg = Search(index=INDEX) \\\n",
    "    .agg_filters(\"keyword\", filters={\n",
    "        key: query.QueryString(f\"text: *{key}*\")\n",
    "        for key in KEYWORDS\n",
    "    }) \\\n",
    "    .metric_cardinality(\"users\", field=\"user\")\n",
    "\n",
    "agg.execute().dump.table(sort=\"-keyword.doc_count\")"
   ]
  },
  {
   "cell_type": "code",
   "execution_count": 64,
   "metadata": {},
   "outputs": [
    {
     "name": "stdout",
     "output_type": "stream",
     "text": [
      "                         ┌──┼───┼───┼───┼───┼───┼───┼───┼───┼───┼───┼───┼───┼───┼───┼───┼───┼───┼───┐ \u001b[0;37;42m█\u001b[0m\u001b[0;37;42m█\u001b[0m 719.0\n",
      "                         │                     \u001b[0;34;40m░\u001b[0m\u001b[0;34;40m░\u001b[0m\u001b[0;34;40m░\u001b[0m\u001b[0;34;40m░\u001b[0m                                                 │ \u001b[0;37;42m▓\u001b[0m\u001b[0;37;42m▓\u001b[0m 659.083\n",
      "2013-11-11T00:00:00.000Z ┼                     \u001b[0;34;40m░\u001b[0m\u001b[0;34;40m░\u001b[0m\u001b[0;34;40m░\u001b[0m\u001b[0;34;40m░\u001b[0m                                                 ┼ \u001b[0;37;42m▒\u001b[0m\u001b[0;37;42m▒\u001b[0m 599.167\n",
      "                         │                     \u001b[0;34;40m░\u001b[0m\u001b[0;34;40m░\u001b[0m\u001b[0;34;40m░\u001b[0m\u001b[0;34;40m░\u001b[0m                                                 │ \u001b[0;32;46m█\u001b[0m\u001b[0;32;46m█\u001b[0m 539.25\n",
      "2013-08-13T00:00:00.000Z ┼                     \u001b[0;34;40m░\u001b[0m\u001b[0;34;40m░\u001b[0m\u001b[0;34;40m░\u001b[0m\u001b[0;34;40m░\u001b[0m                                                 ┼ \u001b[0;32;46m▓\u001b[0m\u001b[0;32;46m▓\u001b[0m 479.333\n",
      "                         │                     \u001b[0;34;40m░\u001b[0m\u001b[0;34;40m░\u001b[0m\u001b[0;34;40m░\u001b[0m\u001b[0;34;40m░\u001b[0m                                                 │ \u001b[0;32;46m▒\u001b[0m\u001b[0;32;46m▒\u001b[0m 419.417\n",
      "2013-05-15T00:00:00.000Z ┼                     \u001b[0;34;40m░\u001b[0m\u001b[0;34;40m░\u001b[0m\u001b[0;34;40m░\u001b[0m\u001b[0;34;40m░\u001b[0m                                                 ┼ \u001b[0;36;44m█\u001b[0m\u001b[0;36;44m█\u001b[0m 359.5\n",
      "                         │ \u001b[0;34;40m░\u001b[0m\u001b[0;34;40m░\u001b[0m\u001b[0;34;40m░\u001b[0m\u001b[0;34;40m░\u001b[0m\u001b[0;34;40m░\u001b[0m\u001b[0;34;40m░\u001b[0m\u001b[0;34;40m░\u001b[0m\u001b[0;34;40m░\u001b[0m\u001b[0;34;40m░\u001b[0m\u001b[0;34;40m░\u001b[0m\u001b[0;34;40m░\u001b[0m\u001b[0;34;40m░\u001b[0m\u001b[0;34;40m░\u001b[0m\u001b[0;34;40m░\u001b[0m\u001b[0;34;40m░\u001b[0m\u001b[0;34;40m░\u001b[0m\u001b[0;34;40m░\u001b[0m\u001b[0;34;40m░\u001b[0m\u001b[0;34;40m░\u001b[0m\u001b[0;34;40m░\u001b[0m\u001b[0;34;40m░\u001b[0m\u001b[0;34;40m░\u001b[0m\u001b[0;34;40m░\u001b[0m\u001b[0;34;40m░\u001b[0m\u001b[0;34;40m░\u001b[0m\u001b[0;34;40m░\u001b[0m\u001b[0;34;40m░\u001b[0m\u001b[0;34;40m░\u001b[0m\u001b[0;34;40m░\u001b[0m\u001b[0;34;40m░\u001b[0m\u001b[0;34;40m░\u001b[0m\u001b[0;34;40m░\u001b[0m\u001b[0;34;40m░\u001b[0m\u001b[0;34;40m░\u001b[0m\u001b[0;34;40m░\u001b[0m\u001b[0;34;40m░\u001b[0m\u001b[0;34;40m░\u001b[0m\u001b[0;34;40m░\u001b[0m\u001b[0;34;40m░\u001b[0m\u001b[0;34;40m░\u001b[0m\u001b[0;34;40m█\u001b[0m\u001b[0;34;40m█\u001b[0m\u001b[0;34;40m█\u001b[0m\u001b[0;34;40m█\u001b[0m\u001b[0;34;40m▒\u001b[0m\u001b[0;34;40m▒\u001b[0m\u001b[0;34;40m▒\u001b[0m\u001b[0;34;40m▒\u001b[0m\u001b[0;34;40m░\u001b[0m\u001b[0;34;40m░\u001b[0m\u001b[0;34;40m░\u001b[0m\u001b[0;34;40m░\u001b[0m\u001b[0;34;40m░\u001b[0m\u001b[0;34;40m░\u001b[0m\u001b[0;34;40m░\u001b[0m\u001b[0;34;40m░\u001b[0m\u001b[0;34;40m░\u001b[0m\u001b[0;34;40m░\u001b[0m\u001b[0;34;40m░\u001b[0m\u001b[0;34;40m░\u001b[0m\u001b[0;34;40m░\u001b[0m\u001b[0;34;40m░\u001b[0m\u001b[0;34;40m░\u001b[0m\u001b[0;34;40m░\u001b[0m\u001b[0;34;40m░\u001b[0m\u001b[0;34;40m░\u001b[0m\u001b[0;34;40m░\u001b[0m\u001b[0;34;40m░\u001b[0m\u001b[0;34;40m▒\u001b[0m\u001b[0;34;40m▒\u001b[0m\u001b[0;34;40m▒\u001b[0m\u001b[0;34;40m▒\u001b[0m │ \u001b[0;36;44m▓\u001b[0m\u001b[0;36;44m▓\u001b[0m 299.583\n",
      "2013-02-14T00:00:00.000Z ┼ \u001b[0;34;40m░\u001b[0m\u001b[0;34;40m░\u001b[0m\u001b[0;34;40m░\u001b[0m\u001b[0;34;40m░\u001b[0m\u001b[0;34;40m░\u001b[0m\u001b[0;34;40m░\u001b[0m\u001b[0;34;40m░\u001b[0m\u001b[0;34;40m░\u001b[0m\u001b[0;34;40m░\u001b[0m\u001b[0;34;40m░\u001b[0m\u001b[0;34;40m░\u001b[0m\u001b[0;34;40m░\u001b[0m\u001b[0;34;40m░\u001b[0m\u001b[0;34;40m░\u001b[0m\u001b[0;34;40m░\u001b[0m\u001b[0;34;40m░\u001b[0m\u001b[0;34;40m░\u001b[0m\u001b[0;34;40m░\u001b[0m\u001b[0;34;40m░\u001b[0m\u001b[0;34;40m░\u001b[0m\u001b[0;34;40m░\u001b[0m\u001b[0;34;40m░\u001b[0m\u001b[0;34;40m░\u001b[0m\u001b[0;34;40m░\u001b[0m\u001b[0;34;40m░\u001b[0m\u001b[0;34;40m░\u001b[0m\u001b[0;34;40m░\u001b[0m\u001b[0;34;40m░\u001b[0m\u001b[0;34;40m░\u001b[0m\u001b[0;34;40m░\u001b[0m\u001b[0;34;40m░\u001b[0m\u001b[0;34;40m░\u001b[0m\u001b[0;34;40m░\u001b[0m\u001b[0;34;40m░\u001b[0m\u001b[0;34;40m░\u001b[0m\u001b[0;34;40m░\u001b[0m\u001b[0;34;40m░\u001b[0m\u001b[0;34;40m░\u001b[0m\u001b[0;34;40m░\u001b[0m\u001b[0;34;40m░\u001b[0m\u001b[0;34;40m█\u001b[0m\u001b[0;34;40m█\u001b[0m\u001b[0;34;40m█\u001b[0m\u001b[0;34;40m█\u001b[0m\u001b[0;34;40m▒\u001b[0m\u001b[0;34;40m▒\u001b[0m\u001b[0;34;40m▒\u001b[0m\u001b[0;34;40m▒\u001b[0m\u001b[0;34;40m░\u001b[0m\u001b[0;34;40m░\u001b[0m\u001b[0;34;40m░\u001b[0m\u001b[0;34;40m░\u001b[0m\u001b[0;34;40m░\u001b[0m\u001b[0;34;40m░\u001b[0m\u001b[0;34;40m░\u001b[0m\u001b[0;34;40m░\u001b[0m\u001b[0;34;40m░\u001b[0m\u001b[0;34;40m░\u001b[0m\u001b[0;34;40m░\u001b[0m\u001b[0;34;40m░\u001b[0m\u001b[0;34;40m░\u001b[0m\u001b[0;34;40m░\u001b[0m\u001b[0;34;40m░\u001b[0m\u001b[0;34;40m░\u001b[0m\u001b[0;34;40m░\u001b[0m\u001b[0;34;40m░\u001b[0m\u001b[0;34;40m░\u001b[0m\u001b[0;34;40m░\u001b[0m\u001b[0;34;40m▒\u001b[0m\u001b[0;34;40m▒\u001b[0m\u001b[0;34;40m▒\u001b[0m\u001b[0;34;40m▒\u001b[0m ┼ \u001b[0;36;44m▒\u001b[0m\u001b[0;36;44m▒\u001b[0m 239.667\n",
      "                         │ \u001b[0;34;40m░\u001b[0m\u001b[0;34;40m░\u001b[0m\u001b[0;34;40m░\u001b[0m\u001b[0;34;40m░\u001b[0m\u001b[0;34;40m░\u001b[0m\u001b[0;34;40m░\u001b[0m\u001b[0;34;40m░\u001b[0m\u001b[0;34;40m░\u001b[0m\u001b[0;34;40m░\u001b[0m\u001b[0;34;40m░\u001b[0m\u001b[0;34;40m░\u001b[0m\u001b[0;34;40m░\u001b[0m\u001b[0;34;40m░\u001b[0m\u001b[0;34;40m░\u001b[0m\u001b[0;34;40m░\u001b[0m\u001b[0;34;40m░\u001b[0m\u001b[0;34;40m░\u001b[0m\u001b[0;34;40m░\u001b[0m\u001b[0;34;40m░\u001b[0m\u001b[0;34;40m░\u001b[0m\u001b[0;34;40m░\u001b[0m\u001b[0;34;40m░\u001b[0m\u001b[0;34;40m░\u001b[0m\u001b[0;34;40m░\u001b[0m\u001b[0;34;40m░\u001b[0m\u001b[0;34;40m░\u001b[0m\u001b[0;34;40m░\u001b[0m\u001b[0;34;40m░\u001b[0m\u001b[0;34;40m░\u001b[0m\u001b[0;34;40m░\u001b[0m\u001b[0;34;40m░\u001b[0m\u001b[0;34;40m░\u001b[0m\u001b[0;34;40m░\u001b[0m\u001b[0;34;40m░\u001b[0m\u001b[0;34;40m░\u001b[0m\u001b[0;34;40m░\u001b[0m\u001b[0;34;40m░\u001b[0m\u001b[0;34;40m░\u001b[0m\u001b[0;34;40m░\u001b[0m\u001b[0;34;40m░\u001b[0m\u001b[0;34;40m█\u001b[0m\u001b[0;34;40m█\u001b[0m\u001b[0;34;40m█\u001b[0m\u001b[0;34;40m█\u001b[0m\u001b[0;34;40m▒\u001b[0m\u001b[0;34;40m▒\u001b[0m\u001b[0;34;40m▒\u001b[0m\u001b[0;34;40m▒\u001b[0m\u001b[0;34;40m░\u001b[0m\u001b[0;34;40m░\u001b[0m\u001b[0;34;40m░\u001b[0m\u001b[0;34;40m░\u001b[0m\u001b[0;34;40m░\u001b[0m\u001b[0;34;40m░\u001b[0m\u001b[0;34;40m░\u001b[0m\u001b[0;34;40m░\u001b[0m\u001b[0;34;40m░\u001b[0m\u001b[0;34;40m░\u001b[0m\u001b[0;34;40m░\u001b[0m\u001b[0;34;40m░\u001b[0m\u001b[0;34;40m░\u001b[0m\u001b[0;34;40m░\u001b[0m\u001b[0;34;40m░\u001b[0m\u001b[0;34;40m░\u001b[0m\u001b[0;34;40m░\u001b[0m\u001b[0;34;40m░\u001b[0m\u001b[0;34;40m░\u001b[0m\u001b[0;34;40m░\u001b[0m\u001b[0;34;40m▒\u001b[0m\u001b[0;34;40m▒\u001b[0m\u001b[0;34;40m▒\u001b[0m\u001b[0;34;40m▒\u001b[0m │ \u001b[0;34;40m█\u001b[0m\u001b[0;34;40m█\u001b[0m 179.75\n",
      "2012-11-16T00:00:00.000Z ┼ \u001b[0;34;40m░\u001b[0m\u001b[0;34;40m░\u001b[0m\u001b[0;34;40m░\u001b[0m\u001b[0;34;40m░\u001b[0m\u001b[0;34;40m░\u001b[0m\u001b[0;34;40m░\u001b[0m\u001b[0;34;40m░\u001b[0m\u001b[0;34;40m░\u001b[0m\u001b[0;34;40m░\u001b[0m\u001b[0;34;40m░\u001b[0m\u001b[0;34;40m░\u001b[0m\u001b[0;34;40m░\u001b[0m\u001b[0;34;40m░\u001b[0m\u001b[0;34;40m░\u001b[0m\u001b[0;34;40m░\u001b[0m\u001b[0;34;40m░\u001b[0m\u001b[0;34;40m░\u001b[0m\u001b[0;34;40m░\u001b[0m\u001b[0;34;40m░\u001b[0m\u001b[0;34;40m░\u001b[0m\u001b[0;34;40m░\u001b[0m\u001b[0;34;40m░\u001b[0m\u001b[0;34;40m░\u001b[0m\u001b[0;34;40m░\u001b[0m\u001b[0;34;40m░\u001b[0m\u001b[0;34;40m░\u001b[0m\u001b[0;34;40m░\u001b[0m\u001b[0;34;40m░\u001b[0m\u001b[0;34;40m░\u001b[0m\u001b[0;34;40m░\u001b[0m\u001b[0;34;40m░\u001b[0m\u001b[0;34;40m░\u001b[0m\u001b[0;34;40m░\u001b[0m\u001b[0;34;40m░\u001b[0m\u001b[0;34;40m░\u001b[0m\u001b[0;34;40m░\u001b[0m\u001b[0;34;40m░\u001b[0m\u001b[0;34;40m░\u001b[0m\u001b[0;34;40m░\u001b[0m\u001b[0;34;40m░\u001b[0m\u001b[0;34;40m█\u001b[0m\u001b[0;34;40m█\u001b[0m\u001b[0;34;40m█\u001b[0m\u001b[0;34;40m█\u001b[0m\u001b[0;34;40m▒\u001b[0m\u001b[0;34;40m▒\u001b[0m\u001b[0;34;40m▒\u001b[0m\u001b[0;34;40m▒\u001b[0m\u001b[0;34;40m░\u001b[0m\u001b[0;34;40m░\u001b[0m\u001b[0;34;40m░\u001b[0m\u001b[0;34;40m░\u001b[0m\u001b[0;34;40m░\u001b[0m\u001b[0;34;40m░\u001b[0m\u001b[0;34;40m░\u001b[0m\u001b[0;34;40m░\u001b[0m\u001b[0;34;40m░\u001b[0m\u001b[0;34;40m░\u001b[0m\u001b[0;34;40m░\u001b[0m\u001b[0;34;40m░\u001b[0m\u001b[0;34;40m░\u001b[0m\u001b[0;34;40m░\u001b[0m\u001b[0;34;40m░\u001b[0m\u001b[0;34;40m░\u001b[0m\u001b[0;34;40m░\u001b[0m\u001b[0;34;40m░\u001b[0m\u001b[0;34;40m░\u001b[0m\u001b[0;34;40m░\u001b[0m\u001b[0;34;40m▒\u001b[0m\u001b[0;34;40m▒\u001b[0m\u001b[0;34;40m▒\u001b[0m\u001b[0;34;40m▒\u001b[0m ┼ \u001b[0;34;40m▓\u001b[0m\u001b[0;34;40m▓\u001b[0m 119.833\n",
      "                         │ \u001b[0;34;40m░\u001b[0m\u001b[0;34;40m░\u001b[0m\u001b[0;34;40m░\u001b[0m\u001b[0;34;40m░\u001b[0m\u001b[0;34;40m░\u001b[0m\u001b[0;34;40m░\u001b[0m\u001b[0;34;40m░\u001b[0m\u001b[0;34;40m░\u001b[0m\u001b[0;34;40m░\u001b[0m\u001b[0;34;40m░\u001b[0m\u001b[0;34;40m░\u001b[0m\u001b[0;34;40m░\u001b[0m\u001b[0;34;40m░\u001b[0m\u001b[0;34;40m░\u001b[0m\u001b[0;34;40m░\u001b[0m\u001b[0;34;40m░\u001b[0m\u001b[0;34;40m░\u001b[0m\u001b[0;34;40m░\u001b[0m\u001b[0;34;40m░\u001b[0m\u001b[0;34;40m░\u001b[0m\u001b[0;34;40m░\u001b[0m\u001b[0;34;40m░\u001b[0m\u001b[0;34;40m░\u001b[0m\u001b[0;34;40m░\u001b[0m\u001b[0;34;40m▒\u001b[0m\u001b[0;34;40m▒\u001b[0m\u001b[0;34;40m▒\u001b[0m\u001b[0;34;40m▒\u001b[0m\u001b[0;34;40m░\u001b[0m\u001b[0;34;40m░\u001b[0m\u001b[0;34;40m░\u001b[0m\u001b[0;34;40m░\u001b[0m\u001b[0;34;40m░\u001b[0m\u001b[0;34;40m░\u001b[0m\u001b[0;34;40m░\u001b[0m\u001b[0;34;40m░\u001b[0m\u001b[0;34;40m░\u001b[0m\u001b[0;34;40m░\u001b[0m\u001b[0;34;40m░\u001b[0m\u001b[0;34;40m░\u001b[0m\u001b[0;36;44m▒\u001b[0m\u001b[0;36;44m▒\u001b[0m\u001b[0;36;44m▒\u001b[0m\u001b[0;36;44m▒\u001b[0m\u001b[0;34;40m▒\u001b[0m\u001b[0;34;40m▒\u001b[0m\u001b[0;34;40m▒\u001b[0m\u001b[0;34;40m▒\u001b[0m\u001b[0;34;40m░\u001b[0m\u001b[0;34;40m░\u001b[0m\u001b[0;34;40m░\u001b[0m\u001b[0;34;40m░\u001b[0m\u001b[0;34;40m░\u001b[0m\u001b[0;34;40m░\u001b[0m\u001b[0;34;40m░\u001b[0m\u001b[0;34;40m░\u001b[0m\u001b[0;34;40m░\u001b[0m\u001b[0;34;40m░\u001b[0m\u001b[0;34;40m░\u001b[0m\u001b[0;34;40m░\u001b[0m\u001b[0;34;40m░\u001b[0m\u001b[0;34;40m░\u001b[0m\u001b[0;34;40m░\u001b[0m\u001b[0;34;40m░\u001b[0m\u001b[0;34;40m░\u001b[0m\u001b[0;34;40m░\u001b[0m\u001b[0;34;40m░\u001b[0m\u001b[0;34;40m░\u001b[0m\u001b[0;34;40m▒\u001b[0m\u001b[0;34;40m▒\u001b[0m\u001b[0;34;40m▒\u001b[0m\u001b[0;34;40m▒\u001b[0m │ \u001b[0;34;40m▒\u001b[0m\u001b[0;34;40m▒\u001b[0m 59.917\n",
      "2012-08-18T00:00:00.000Z ┼ \u001b[0;34;40m░\u001b[0m\u001b[0;34;40m░\u001b[0m\u001b[0;34;40m░\u001b[0m\u001b[0;34;40m░\u001b[0m\u001b[0;34;40m░\u001b[0m\u001b[0;34;40m░\u001b[0m\u001b[0;34;40m░\u001b[0m\u001b[0;34;40m░\u001b[0m\u001b[0;34;40m░\u001b[0m\u001b[0;34;40m░\u001b[0m\u001b[0;34;40m░\u001b[0m\u001b[0;34;40m░\u001b[0m\u001b[0;34;40m░\u001b[0m\u001b[0;34;40m░\u001b[0m\u001b[0;34;40m░\u001b[0m\u001b[0;34;40m░\u001b[0m\u001b[0;34;40m░\u001b[0m\u001b[0;34;40m░\u001b[0m\u001b[0;34;40m░\u001b[0m\u001b[0;34;40m░\u001b[0m\u001b[0;34;40m░\u001b[0m\u001b[0;34;40m░\u001b[0m\u001b[0;34;40m░\u001b[0m\u001b[0;34;40m░\u001b[0m\u001b[0;34;40m▒\u001b[0m\u001b[0;34;40m▒\u001b[0m\u001b[0;34;40m▒\u001b[0m\u001b[0;34;40m▒\u001b[0m\u001b[0;34;40m░\u001b[0m\u001b[0;34;40m░\u001b[0m\u001b[0;34;40m░\u001b[0m\u001b[0;34;40m░\u001b[0m\u001b[0;34;40m░\u001b[0m\u001b[0;34;40m░\u001b[0m\u001b[0;34;40m░\u001b[0m\u001b[0;34;40m░\u001b[0m\u001b[0;34;40m░\u001b[0m\u001b[0;34;40m░\u001b[0m\u001b[0;34;40m░\u001b[0m\u001b[0;34;40m░\u001b[0m\u001b[0;36;44m▒\u001b[0m\u001b[0;36;44m▒\u001b[0m\u001b[0;36;44m▒\u001b[0m\u001b[0;36;44m▒\u001b[0m\u001b[0;34;40m▒\u001b[0m\u001b[0;34;40m▒\u001b[0m\u001b[0;34;40m▒\u001b[0m\u001b[0;34;40m▒\u001b[0m\u001b[0;34;40m░\u001b[0m\u001b[0;34;40m░\u001b[0m\u001b[0;34;40m░\u001b[0m\u001b[0;34;40m░\u001b[0m\u001b[0;34;40m░\u001b[0m\u001b[0;34;40m░\u001b[0m\u001b[0;34;40m░\u001b[0m\u001b[0;34;40m░\u001b[0m\u001b[0;34;40m░\u001b[0m\u001b[0;34;40m░\u001b[0m\u001b[0;34;40m░\u001b[0m\u001b[0;34;40m░\u001b[0m\u001b[0;34;40m░\u001b[0m\u001b[0;34;40m░\u001b[0m\u001b[0;34;40m░\u001b[0m\u001b[0;34;40m░\u001b[0m\u001b[0;34;40m░\u001b[0m\u001b[0;34;40m░\u001b[0m\u001b[0;34;40m░\u001b[0m\u001b[0;34;40m░\u001b[0m\u001b[0;34;40m▒\u001b[0m\u001b[0;34;40m▒\u001b[0m\u001b[0;34;40m▒\u001b[0m\u001b[0;34;40m▒\u001b[0m ┼ \u001b[0;34;40m░\u001b[0m\u001b[0;34;40m░\u001b[0m 0.0\n",
      "                         │ \u001b[0;34;40m░\u001b[0m\u001b[0;34;40m░\u001b[0m\u001b[0;34;40m░\u001b[0m\u001b[0;34;40m░\u001b[0m\u001b[0;34;40m░\u001b[0m\u001b[0;34;40m░\u001b[0m\u001b[0;34;40m░\u001b[0m\u001b[0;34;40m░\u001b[0m\u001b[0;34;40m░\u001b[0m\u001b[0;34;40m░\u001b[0m\u001b[0;34;40m░\u001b[0m\u001b[0;34;40m░\u001b[0m\u001b[0;34;40m░\u001b[0m\u001b[0;34;40m░\u001b[0m\u001b[0;34;40m░\u001b[0m\u001b[0;34;40m░\u001b[0m\u001b[0;34;40m░\u001b[0m\u001b[0;34;40m░\u001b[0m\u001b[0;34;40m░\u001b[0m\u001b[0;34;40m░\u001b[0m\u001b[0;34;40m░\u001b[0m\u001b[0;34;40m░\u001b[0m\u001b[0;34;40m░\u001b[0m\u001b[0;34;40m░\u001b[0m\u001b[0;34;40m▒\u001b[0m\u001b[0;34;40m▒\u001b[0m\u001b[0;34;40m▒\u001b[0m\u001b[0;34;40m▒\u001b[0m\u001b[0;34;40m░\u001b[0m\u001b[0;34;40m░\u001b[0m\u001b[0;34;40m░\u001b[0m\u001b[0;34;40m░\u001b[0m\u001b[0;34;40m░\u001b[0m\u001b[0;34;40m░\u001b[0m\u001b[0;34;40m░\u001b[0m\u001b[0;34;40m░\u001b[0m\u001b[0;34;40m░\u001b[0m\u001b[0;34;40m░\u001b[0m\u001b[0;34;40m░\u001b[0m\u001b[0;34;40m░\u001b[0m\u001b[0;36;44m▒\u001b[0m\u001b[0;36;44m▒\u001b[0m\u001b[0;36;44m▒\u001b[0m\u001b[0;36;44m▒\u001b[0m\u001b[0;34;40m▓\u001b[0m\u001b[0;34;40m▓\u001b[0m\u001b[0;34;40m▓\u001b[0m\u001b[0;34;40m▓\u001b[0m\u001b[0;34;40m░\u001b[0m\u001b[0;34;40m░\u001b[0m\u001b[0;34;40m░\u001b[0m\u001b[0;34;40m░\u001b[0m\u001b[0;34;40m░\u001b[0m\u001b[0;34;40m░\u001b[0m\u001b[0;34;40m░\u001b[0m\u001b[0;34;40m░\u001b[0m\u001b[0;34;40m░\u001b[0m\u001b[0;34;40m░\u001b[0m\u001b[0;34;40m░\u001b[0m\u001b[0;34;40m░\u001b[0m\u001b[0;34;40m░\u001b[0m\u001b[0;34;40m░\u001b[0m\u001b[0;34;40m░\u001b[0m\u001b[0;34;40m░\u001b[0m\u001b[0;34;40m░\u001b[0m\u001b[0;34;40m░\u001b[0m\u001b[0;34;40m░\u001b[0m\u001b[0;34;40m░\u001b[0m\u001b[0;34;40m▒\u001b[0m\u001b[0;34;40m▒\u001b[0m\u001b[0;34;40m▒\u001b[0m\u001b[0;34;40m▒\u001b[0m │\n",
      "2012-05-20T00:00:00.000Z ┼ \u001b[0;34;40m░\u001b[0m\u001b[0;34;40m░\u001b[0m\u001b[0;34;40m░\u001b[0m\u001b[0;34;40m░\u001b[0m\u001b[0;34;40m░\u001b[0m\u001b[0;34;40m░\u001b[0m\u001b[0;34;40m░\u001b[0m\u001b[0;34;40m░\u001b[0m\u001b[0;34;40m░\u001b[0m\u001b[0;34;40m░\u001b[0m\u001b[0;34;40m░\u001b[0m\u001b[0;34;40m░\u001b[0m\u001b[0;34;40m░\u001b[0m\u001b[0;34;40m░\u001b[0m\u001b[0;34;40m░\u001b[0m\u001b[0;34;40m░\u001b[0m\u001b[0;34;40m░\u001b[0m\u001b[0;34;40m░\u001b[0m\u001b[0;34;40m░\u001b[0m\u001b[0;34;40m░\u001b[0m\u001b[0;34;40m░\u001b[0m\u001b[0;34;40m░\u001b[0m\u001b[0;34;40m░\u001b[0m\u001b[0;34;40m░\u001b[0m\u001b[0;34;40m▒\u001b[0m\u001b[0;34;40m▒\u001b[0m\u001b[0;34;40m▒\u001b[0m\u001b[0;34;40m▒\u001b[0m\u001b[0;34;40m░\u001b[0m\u001b[0;34;40m░\u001b[0m\u001b[0;34;40m░\u001b[0m\u001b[0;34;40m░\u001b[0m\u001b[0;34;40m░\u001b[0m\u001b[0;34;40m░\u001b[0m\u001b[0;34;40m░\u001b[0m\u001b[0;34;40m░\u001b[0m\u001b[0;34;40m░\u001b[0m\u001b[0;34;40m░\u001b[0m\u001b[0;34;40m░\u001b[0m\u001b[0;34;40m░\u001b[0m\u001b[0;36;44m▒\u001b[0m\u001b[0;36;44m▒\u001b[0m\u001b[0;36;44m▒\u001b[0m\u001b[0;36;44m▒\u001b[0m\u001b[0;34;40m▓\u001b[0m\u001b[0;34;40m▓\u001b[0m\u001b[0;34;40m▓\u001b[0m\u001b[0;34;40m▓\u001b[0m\u001b[0;34;40m░\u001b[0m\u001b[0;34;40m░\u001b[0m\u001b[0;34;40m░\u001b[0m\u001b[0;34;40m░\u001b[0m\u001b[0;34;40m░\u001b[0m\u001b[0;34;40m░\u001b[0m\u001b[0;34;40m░\u001b[0m\u001b[0;34;40m░\u001b[0m\u001b[0;34;40m░\u001b[0m\u001b[0;34;40m░\u001b[0m\u001b[0;34;40m░\u001b[0m\u001b[0;34;40m░\u001b[0m\u001b[0;34;40m░\u001b[0m\u001b[0;34;40m░\u001b[0m\u001b[0;34;40m░\u001b[0m\u001b[0;34;40m░\u001b[0m\u001b[0;34;40m░\u001b[0m\u001b[0;34;40m░\u001b[0m\u001b[0;34;40m░\u001b[0m\u001b[0;34;40m░\u001b[0m\u001b[0;34;40m▒\u001b[0m\u001b[0;34;40m▒\u001b[0m\u001b[0;34;40m▒\u001b[0m\u001b[0;34;40m▒\u001b[0m ┼\n",
      "                         │ \u001b[0;34;40m░\u001b[0m\u001b[0;34;40m░\u001b[0m\u001b[0;34;40m░\u001b[0m\u001b[0;34;40m░\u001b[0m\u001b[0;34;40m░\u001b[0m\u001b[0;34;40m░\u001b[0m\u001b[0;34;40m░\u001b[0m\u001b[0;34;40m░\u001b[0m\u001b[0;34;40m▒\u001b[0m\u001b[0;34;40m▒\u001b[0m\u001b[0;34;40m▒\u001b[0m\u001b[0;34;40m▒\u001b[0m\u001b[0;34;40m░\u001b[0m\u001b[0;34;40m░\u001b[0m\u001b[0;34;40m░\u001b[0m\u001b[0;34;40m░\u001b[0m\u001b[0;34;40m░\u001b[0m\u001b[0;34;40m░\u001b[0m\u001b[0;34;40m░\u001b[0m\u001b[0;34;40m░\u001b[0m\u001b[0;34;40m░\u001b[0m\u001b[0;34;40m░\u001b[0m\u001b[0;34;40m░\u001b[0m\u001b[0;34;40m░\u001b[0m\u001b[0;34;40m▒\u001b[0m\u001b[0;34;40m▒\u001b[0m\u001b[0;34;40m▒\u001b[0m\u001b[0;34;40m▒\u001b[0m\u001b[0;34;40m░\u001b[0m\u001b[0;34;40m░\u001b[0m\u001b[0;34;40m░\u001b[0m\u001b[0;34;40m░\u001b[0m\u001b[0;34;40m░\u001b[0m\u001b[0;34;40m░\u001b[0m\u001b[0;34;40m░\u001b[0m\u001b[0;34;40m░\u001b[0m\u001b[0;34;40m░\u001b[0m\u001b[0;34;40m░\u001b[0m\u001b[0;34;40m░\u001b[0m\u001b[0;34;40m░\u001b[0m\u001b[0;32;46m▒\u001b[0m\u001b[0;32;46m▒\u001b[0m\u001b[0;32;46m▒\u001b[0m\u001b[0;32;46m▒\u001b[0m\u001b[0;36;44m▒\u001b[0m\u001b[0;36;44m▒\u001b[0m\u001b[0;36;44m▒\u001b[0m\u001b[0;36;44m▒\u001b[0m\u001b[0;34;40m░\u001b[0m\u001b[0;34;40m░\u001b[0m\u001b[0;34;40m░\u001b[0m\u001b[0;34;40m░\u001b[0m\u001b[0;34;40m░\u001b[0m\u001b[0;34;40m░\u001b[0m\u001b[0;34;40m░\u001b[0m\u001b[0;34;40m░\u001b[0m\u001b[0;34;40m░\u001b[0m\u001b[0;34;40m░\u001b[0m\u001b[0;34;40m░\u001b[0m\u001b[0;34;40m░\u001b[0m\u001b[0;34;40m░\u001b[0m\u001b[0;34;40m░\u001b[0m\u001b[0;34;40m░\u001b[0m\u001b[0;34;40m░\u001b[0m\u001b[0;34;40m░\u001b[0m\u001b[0;34;40m░\u001b[0m\u001b[0;34;40m░\u001b[0m\u001b[0;34;40m░\u001b[0m\u001b[0;34;40m▒\u001b[0m\u001b[0;34;40m▒\u001b[0m\u001b[0;34;40m▒\u001b[0m\u001b[0;34;40m▒\u001b[0m │\n",
      "2012-02-20T00:00:00.000Z ┼ \u001b[0;34;40m░\u001b[0m\u001b[0;34;40m░\u001b[0m\u001b[0;34;40m░\u001b[0m\u001b[0;34;40m░\u001b[0m\u001b[0;34;40m░\u001b[0m\u001b[0;34;40m░\u001b[0m\u001b[0;34;40m░\u001b[0m\u001b[0;34;40m░\u001b[0m\u001b[0;34;40m▒\u001b[0m\u001b[0;34;40m▒\u001b[0m\u001b[0;34;40m▒\u001b[0m\u001b[0;34;40m▒\u001b[0m\u001b[0;34;40m░\u001b[0m\u001b[0;34;40m░\u001b[0m\u001b[0;34;40m░\u001b[0m\u001b[0;34;40m░\u001b[0m\u001b[0;34;40m░\u001b[0m\u001b[0;34;40m░\u001b[0m\u001b[0;34;40m░\u001b[0m\u001b[0;34;40m░\u001b[0m\u001b[0;34;40m░\u001b[0m\u001b[0;34;40m░\u001b[0m\u001b[0;34;40m░\u001b[0m\u001b[0;34;40m░\u001b[0m\u001b[0;34;40m▒\u001b[0m\u001b[0;34;40m▒\u001b[0m\u001b[0;34;40m▒\u001b[0m\u001b[0;34;40m▒\u001b[0m\u001b[0;34;40m░\u001b[0m\u001b[0;34;40m░\u001b[0m\u001b[0;34;40m░\u001b[0m\u001b[0;34;40m░\u001b[0m\u001b[0;34;40m░\u001b[0m\u001b[0;34;40m░\u001b[0m\u001b[0;34;40m░\u001b[0m\u001b[0;34;40m░\u001b[0m\u001b[0;34;40m░\u001b[0m\u001b[0;34;40m░\u001b[0m\u001b[0;34;40m░\u001b[0m\u001b[0;34;40m░\u001b[0m\u001b[0;32;46m▒\u001b[0m\u001b[0;32;46m▒\u001b[0m\u001b[0;32;46m▒\u001b[0m\u001b[0;32;46m▒\u001b[0m\u001b[0;36;44m▒\u001b[0m\u001b[0;36;44m▒\u001b[0m\u001b[0;36;44m▒\u001b[0m\u001b[0;36;44m▒\u001b[0m\u001b[0;34;40m░\u001b[0m\u001b[0;34;40m░\u001b[0m\u001b[0;34;40m░\u001b[0m\u001b[0;34;40m░\u001b[0m\u001b[0;34;40m░\u001b[0m\u001b[0;34;40m░\u001b[0m\u001b[0;34;40m░\u001b[0m\u001b[0;34;40m░\u001b[0m\u001b[0;34;40m░\u001b[0m\u001b[0;34;40m░\u001b[0m\u001b[0;34;40m░\u001b[0m\u001b[0;34;40m░\u001b[0m\u001b[0;34;40m░\u001b[0m\u001b[0;34;40m░\u001b[0m\u001b[0;34;40m░\u001b[0m\u001b[0;34;40m░\u001b[0m\u001b[0;34;40m░\u001b[0m\u001b[0;34;40m░\u001b[0m\u001b[0;34;40m░\u001b[0m\u001b[0;34;40m░\u001b[0m\u001b[0;34;40m▒\u001b[0m\u001b[0;34;40m▒\u001b[0m\u001b[0;34;40m▒\u001b[0m\u001b[0;34;40m▒\u001b[0m ┼\n",
      "                         │ \u001b[0;34;40m░\u001b[0m\u001b[0;34;40m░\u001b[0m\u001b[0;34;40m░\u001b[0m\u001b[0;34;40m░\u001b[0m\u001b[0;34;40m░\u001b[0m\u001b[0;34;40m░\u001b[0m\u001b[0;34;40m░\u001b[0m\u001b[0;34;40m░\u001b[0m\u001b[0;34;40m░\u001b[0m\u001b[0;34;40m░\u001b[0m\u001b[0;34;40m░\u001b[0m\u001b[0;34;40m░\u001b[0m\u001b[0;34;40m░\u001b[0m\u001b[0;34;40m░\u001b[0m\u001b[0;34;40m░\u001b[0m\u001b[0;34;40m░\u001b[0m\u001b[0;34;40m░\u001b[0m\u001b[0;34;40m░\u001b[0m\u001b[0;34;40m░\u001b[0m\u001b[0;34;40m░\u001b[0m\u001b[0;34;40m░\u001b[0m\u001b[0;34;40m░\u001b[0m\u001b[0;34;40m░\u001b[0m\u001b[0;34;40m░\u001b[0m\u001b[0;34;40m░\u001b[0m\u001b[0;34;40m░\u001b[0m\u001b[0;34;40m░\u001b[0m\u001b[0;34;40m░\u001b[0m\u001b[0;34;40m▒\u001b[0m\u001b[0;34;40m▒\u001b[0m\u001b[0;34;40m▒\u001b[0m\u001b[0;34;40m▒\u001b[0m\u001b[0;34;40m░\u001b[0m\u001b[0;34;40m░\u001b[0m\u001b[0;34;40m░\u001b[0m\u001b[0;34;40m░\u001b[0m\u001b[0;34;40m░\u001b[0m\u001b[0;34;40m░\u001b[0m\u001b[0;34;40m░\u001b[0m\u001b[0;34;40m░\u001b[0m\u001b[0;36;44m█\u001b[0m\u001b[0;36;44m█\u001b[0m\u001b[0;36;44m█\u001b[0m\u001b[0;36;44m█\u001b[0m\u001b[0;34;40m█\u001b[0m\u001b[0;34;40m█\u001b[0m\u001b[0;34;40m█\u001b[0m\u001b[0;34;40m█\u001b[0m\u001b[0;34;40m░\u001b[0m\u001b[0;34;40m░\u001b[0m\u001b[0;34;40m░\u001b[0m\u001b[0;34;40m░\u001b[0m\u001b[0;34;40m░\u001b[0m\u001b[0;34;40m░\u001b[0m\u001b[0;34;40m░\u001b[0m\u001b[0;34;40m░\u001b[0m\u001b[0;34;40m░\u001b[0m\u001b[0;34;40m░\u001b[0m\u001b[0;34;40m░\u001b[0m\u001b[0;34;40m░\u001b[0m\u001b[0;34;40m░\u001b[0m\u001b[0;34;40m░\u001b[0m\u001b[0;34;40m░\u001b[0m\u001b[0;34;40m░\u001b[0m\u001b[0;34;40m░\u001b[0m\u001b[0;34;40m░\u001b[0m\u001b[0;34;40m░\u001b[0m\u001b[0;34;40m░\u001b[0m\u001b[0;34;40m▒\u001b[0m\u001b[0;34;40m▒\u001b[0m\u001b[0;34;40m▒\u001b[0m\u001b[0;34;40m▒\u001b[0m │\n",
      "2011-11-22T00:00:00.000Z ┼ \u001b[0;34;40m░\u001b[0m\u001b[0;34;40m░\u001b[0m\u001b[0;34;40m░\u001b[0m\u001b[0;34;40m░\u001b[0m\u001b[0;34;40m░\u001b[0m\u001b[0;34;40m░\u001b[0m\u001b[0;34;40m░\u001b[0m\u001b[0;34;40m░\u001b[0m\u001b[0;34;40m░\u001b[0m\u001b[0;34;40m░\u001b[0m\u001b[0;34;40m░\u001b[0m\u001b[0;34;40m░\u001b[0m\u001b[0;34;40m░\u001b[0m\u001b[0;34;40m░\u001b[0m\u001b[0;34;40m░\u001b[0m\u001b[0;34;40m░\u001b[0m\u001b[0;34;40m░\u001b[0m\u001b[0;34;40m░\u001b[0m\u001b[0;34;40m░\u001b[0m\u001b[0;34;40m░\u001b[0m\u001b[0;34;40m░\u001b[0m\u001b[0;34;40m░\u001b[0m\u001b[0;34;40m░\u001b[0m\u001b[0;34;40m░\u001b[0m\u001b[0;34;40m░\u001b[0m\u001b[0;34;40m░\u001b[0m\u001b[0;34;40m░\u001b[0m\u001b[0;34;40m░\u001b[0m\u001b[0;34;40m▒\u001b[0m\u001b[0;34;40m▒\u001b[0m\u001b[0;34;40m▒\u001b[0m\u001b[0;34;40m▒\u001b[0m\u001b[0;34;40m░\u001b[0m\u001b[0;34;40m░\u001b[0m\u001b[0;34;40m░\u001b[0m\u001b[0;34;40m░\u001b[0m\u001b[0;34;40m░\u001b[0m\u001b[0;34;40m░\u001b[0m\u001b[0;34;40m░\u001b[0m\u001b[0;34;40m░\u001b[0m\u001b[0;36;44m█\u001b[0m\u001b[0;36;44m█\u001b[0m\u001b[0;36;44m█\u001b[0m\u001b[0;36;44m█\u001b[0m\u001b[0;34;40m█\u001b[0m\u001b[0;34;40m█\u001b[0m\u001b[0;34;40m█\u001b[0m\u001b[0;34;40m█\u001b[0m\u001b[0;34;40m░\u001b[0m\u001b[0;34;40m░\u001b[0m\u001b[0;34;40m░\u001b[0m\u001b[0;34;40m░\u001b[0m\u001b[0;34;40m░\u001b[0m\u001b[0;34;40m░\u001b[0m\u001b[0;34;40m░\u001b[0m\u001b[0;34;40m░\u001b[0m\u001b[0;34;40m░\u001b[0m\u001b[0;34;40m░\u001b[0m\u001b[0;34;40m░\u001b[0m\u001b[0;34;40m░\u001b[0m\u001b[0;34;40m░\u001b[0m\u001b[0;34;40m░\u001b[0m\u001b[0;34;40m░\u001b[0m\u001b[0;34;40m░\u001b[0m\u001b[0;34;40m░\u001b[0m\u001b[0;34;40m░\u001b[0m\u001b[0;34;40m░\u001b[0m\u001b[0;34;40m░\u001b[0m\u001b[0;34;40m▒\u001b[0m\u001b[0;34;40m▒\u001b[0m\u001b[0;34;40m▒\u001b[0m\u001b[0;34;40m▒\u001b[0m ┼\n",
      "                         │ \u001b[0;34;40m░\u001b[0m\u001b[0;34;40m░\u001b[0m\u001b[0;34;40m░\u001b[0m\u001b[0;34;40m░\u001b[0m\u001b[0;34;40m░\u001b[0m\u001b[0;34;40m░\u001b[0m\u001b[0;34;40m░\u001b[0m\u001b[0;34;40m░\u001b[0m\u001b[0;34;40m░\u001b[0m\u001b[0;34;40m░\u001b[0m\u001b[0;34;40m░\u001b[0m\u001b[0;34;40m░\u001b[0m\u001b[0;34;40m░\u001b[0m\u001b[0;34;40m░\u001b[0m\u001b[0;34;40m░\u001b[0m\u001b[0;34;40m░\u001b[0m\u001b[0;34;40m░\u001b[0m\u001b[0;34;40m░\u001b[0m\u001b[0;34;40m░\u001b[0m\u001b[0;34;40m░\u001b[0m\u001b[0;34;40m░\u001b[0m\u001b[0;34;40m░\u001b[0m\u001b[0;34;40m░\u001b[0m\u001b[0;34;40m░\u001b[0m\u001b[0;34;40m░\u001b[0m\u001b[0;34;40m░\u001b[0m\u001b[0;34;40m░\u001b[0m\u001b[0;34;40m░\u001b[0m\u001b[0;34;40m▒\u001b[0m\u001b[0;34;40m▒\u001b[0m\u001b[0;34;40m▒\u001b[0m\u001b[0;34;40m▒\u001b[0m\u001b[0;34;40m░\u001b[0m\u001b[0;34;40m░\u001b[0m\u001b[0;34;40m░\u001b[0m\u001b[0;34;40m░\u001b[0m\u001b[0;34;40m░\u001b[0m\u001b[0;34;40m░\u001b[0m\u001b[0;34;40m░\u001b[0m\u001b[0;34;40m░\u001b[0m\u001b[0;36;44m▓\u001b[0m\u001b[0;36;44m▓\u001b[0m\u001b[0;36;44m▓\u001b[0m\u001b[0;36;44m▓\u001b[0m\u001b[0;34;40m█\u001b[0m\u001b[0;34;40m█\u001b[0m\u001b[0;34;40m█\u001b[0m\u001b[0;34;40m█\u001b[0m\u001b[0;34;40m░\u001b[0m\u001b[0;34;40m░\u001b[0m\u001b[0;34;40m░\u001b[0m\u001b[0;34;40m░\u001b[0m\u001b[0;34;40m░\u001b[0m\u001b[0;34;40m░\u001b[0m\u001b[0;34;40m░\u001b[0m\u001b[0;34;40m░\u001b[0m\u001b[0;34;40m░\u001b[0m\u001b[0;34;40m░\u001b[0m\u001b[0;34;40m░\u001b[0m\u001b[0;34;40m░\u001b[0m\u001b[0;34;40m░\u001b[0m\u001b[0;34;40m░\u001b[0m\u001b[0;34;40m░\u001b[0m\u001b[0;34;40m░\u001b[0m\u001b[0;34;40m░\u001b[0m\u001b[0;34;40m░\u001b[0m\u001b[0;34;40m░\u001b[0m\u001b[0;34;40m░\u001b[0m\u001b[0;34;40m▒\u001b[0m\u001b[0;34;40m▒\u001b[0m\u001b[0;34;40m▒\u001b[0m\u001b[0;34;40m▒\u001b[0m │\n",
      "2011-08-24T00:00:00.000Z ┼ \u001b[0;34;40m░\u001b[0m\u001b[0;34;40m░\u001b[0m\u001b[0;34;40m░\u001b[0m\u001b[0;34;40m░\u001b[0m\u001b[0;34;40m░\u001b[0m\u001b[0;34;40m░\u001b[0m\u001b[0;34;40m░\u001b[0m\u001b[0;34;40m░\u001b[0m\u001b[0;34;40m░\u001b[0m\u001b[0;34;40m░\u001b[0m\u001b[0;34;40m░\u001b[0m\u001b[0;34;40m░\u001b[0m\u001b[0;34;40m░\u001b[0m\u001b[0;34;40m░\u001b[0m\u001b[0;34;40m░\u001b[0m\u001b[0;34;40m░\u001b[0m\u001b[0;34;40m░\u001b[0m\u001b[0;34;40m░\u001b[0m\u001b[0;34;40m░\u001b[0m\u001b[0;34;40m░\u001b[0m\u001b[0;34;40m░\u001b[0m\u001b[0;34;40m░\u001b[0m\u001b[0;34;40m░\u001b[0m\u001b[0;34;40m░\u001b[0m\u001b[0;34;40m░\u001b[0m\u001b[0;34;40m░\u001b[0m\u001b[0;34;40m░\u001b[0m\u001b[0;34;40m░\u001b[0m\u001b[0;34;40m▒\u001b[0m\u001b[0;34;40m▒\u001b[0m\u001b[0;34;40m▒\u001b[0m\u001b[0;34;40m▒\u001b[0m\u001b[0;34;40m░\u001b[0m\u001b[0;34;40m░\u001b[0m\u001b[0;34;40m░\u001b[0m\u001b[0;34;40m░\u001b[0m\u001b[0;34;40m░\u001b[0m\u001b[0;34;40m░\u001b[0m\u001b[0;34;40m░\u001b[0m\u001b[0;34;40m░\u001b[0m\u001b[0;36;44m▓\u001b[0m\u001b[0;36;44m▓\u001b[0m\u001b[0;36;44m▓\u001b[0m\u001b[0;36;44m▓\u001b[0m\u001b[0;34;40m█\u001b[0m\u001b[0;34;40m█\u001b[0m\u001b[0;34;40m█\u001b[0m\u001b[0;34;40m█\u001b[0m\u001b[0;34;40m░\u001b[0m\u001b[0;34;40m░\u001b[0m\u001b[0;34;40m░\u001b[0m\u001b[0;34;40m░\u001b[0m\u001b[0;34;40m░\u001b[0m\u001b[0;34;40m░\u001b[0m\u001b[0;34;40m░\u001b[0m\u001b[0;34;40m░\u001b[0m\u001b[0;34;40m░\u001b[0m\u001b[0;34;40m░\u001b[0m\u001b[0;34;40m░\u001b[0m\u001b[0;34;40m░\u001b[0m\u001b[0;34;40m░\u001b[0m\u001b[0;34;40m░\u001b[0m\u001b[0;34;40m░\u001b[0m\u001b[0;34;40m░\u001b[0m\u001b[0;34;40m░\u001b[0m\u001b[0;34;40m░\u001b[0m\u001b[0;34;40m░\u001b[0m\u001b[0;34;40m░\u001b[0m\u001b[0;34;40m▒\u001b[0m\u001b[0;34;40m▒\u001b[0m\u001b[0;34;40m▒\u001b[0m\u001b[0;34;40m▒\u001b[0m ┼\n",
      "                         │ \u001b[0;34;40m░\u001b[0m\u001b[0;34;40m░\u001b[0m\u001b[0;34;40m░\u001b[0m\u001b[0;34;40m░\u001b[0m\u001b[0;34;40m░\u001b[0m\u001b[0;34;40m░\u001b[0m\u001b[0;34;40m░\u001b[0m\u001b[0;34;40m░\u001b[0m\u001b[0;34;40m░\u001b[0m\u001b[0;34;40m░\u001b[0m\u001b[0;34;40m░\u001b[0m\u001b[0;34;40m░\u001b[0m\u001b[0;34;40m░\u001b[0m\u001b[0;34;40m░\u001b[0m\u001b[0;34;40m░\u001b[0m\u001b[0;34;40m░\u001b[0m\u001b[0;34;40m░\u001b[0m\u001b[0;34;40m░\u001b[0m\u001b[0;34;40m░\u001b[0m\u001b[0;34;40m░\u001b[0m\u001b[0;34;40m░\u001b[0m\u001b[0;34;40m░\u001b[0m\u001b[0;34;40m░\u001b[0m\u001b[0;34;40m░\u001b[0m\u001b[0;34;40m░\u001b[0m\u001b[0;34;40m░\u001b[0m\u001b[0;34;40m░\u001b[0m\u001b[0;34;40m░\u001b[0m\u001b[0;34;40m▒\u001b[0m\u001b[0;34;40m▒\u001b[0m\u001b[0;34;40m▒\u001b[0m\u001b[0;34;40m▒\u001b[0m\u001b[0;34;40m░\u001b[0m\u001b[0;34;40m░\u001b[0m\u001b[0;34;40m░\u001b[0m\u001b[0;34;40m░\u001b[0m\u001b[0;34;40m░\u001b[0m\u001b[0;34;40m░\u001b[0m\u001b[0;34;40m░\u001b[0m\u001b[0;34;40m░\u001b[0m\u001b[0;32;46m▒\u001b[0m\u001b[0;32;46m▒\u001b[0m\u001b[0;32;46m▒\u001b[0m\u001b[0;32;46m▒\u001b[0m\u001b[0;36;44m▒\u001b[0m\u001b[0;36;44m▒\u001b[0m\u001b[0;36;44m▒\u001b[0m\u001b[0;36;44m▒\u001b[0m\u001b[0;34;40m░\u001b[0m\u001b[0;34;40m░\u001b[0m\u001b[0;34;40m░\u001b[0m\u001b[0;34;40m░\u001b[0m\u001b[0;34;40m░\u001b[0m\u001b[0;34;40m░\u001b[0m\u001b[0;34;40m░\u001b[0m\u001b[0;34;40m░\u001b[0m\u001b[0;34;40m░\u001b[0m\u001b[0;34;40m░\u001b[0m\u001b[0;34;40m░\u001b[0m\u001b[0;34;40m░\u001b[0m\u001b[0;34;40m░\u001b[0m\u001b[0;34;40m░\u001b[0m\u001b[0;34;40m░\u001b[0m\u001b[0;34;40m░\u001b[0m\u001b[0;34;40m▓\u001b[0m\u001b[0;34;40m▓\u001b[0m\u001b[0;34;40m▓\u001b[0m\u001b[0;34;40m▓\u001b[0m\u001b[0;34;40m█\u001b[0m\u001b[0;34;40m█\u001b[0m\u001b[0;34;40m█\u001b[0m\u001b[0;34;40m█\u001b[0m │\n",
      "2011-05-26T00:00:00.000Z ┼ \u001b[0;34;40m░\u001b[0m\u001b[0;34;40m░\u001b[0m\u001b[0;34;40m░\u001b[0m\u001b[0;34;40m░\u001b[0m\u001b[0;34;40m░\u001b[0m\u001b[0;34;40m░\u001b[0m\u001b[0;34;40m░\u001b[0m\u001b[0;34;40m░\u001b[0m\u001b[0;34;40m░\u001b[0m\u001b[0;34;40m░\u001b[0m\u001b[0;34;40m░\u001b[0m\u001b[0;34;40m░\u001b[0m\u001b[0;34;40m░\u001b[0m\u001b[0;34;40m░\u001b[0m\u001b[0;34;40m░\u001b[0m\u001b[0;34;40m░\u001b[0m\u001b[0;34;40m░\u001b[0m\u001b[0;34;40m░\u001b[0m\u001b[0;34;40m░\u001b[0m\u001b[0;34;40m░\u001b[0m\u001b[0;34;40m░\u001b[0m\u001b[0;34;40m░\u001b[0m\u001b[0;34;40m░\u001b[0m\u001b[0;34;40m░\u001b[0m\u001b[0;34;40m░\u001b[0m\u001b[0;34;40m░\u001b[0m\u001b[0;34;40m░\u001b[0m\u001b[0;34;40m░\u001b[0m\u001b[0;34;40m▒\u001b[0m\u001b[0;34;40m▒\u001b[0m\u001b[0;34;40m▒\u001b[0m\u001b[0;34;40m▒\u001b[0m\u001b[0;34;40m░\u001b[0m\u001b[0;34;40m░\u001b[0m\u001b[0;34;40m░\u001b[0m\u001b[0;34;40m░\u001b[0m\u001b[0;34;40m░\u001b[0m\u001b[0;34;40m░\u001b[0m\u001b[0;34;40m░\u001b[0m\u001b[0;34;40m░\u001b[0m\u001b[0;32;46m▒\u001b[0m\u001b[0;32;46m▒\u001b[0m\u001b[0;32;46m▒\u001b[0m\u001b[0;32;46m▒\u001b[0m\u001b[0;36;44m▒\u001b[0m\u001b[0;36;44m▒\u001b[0m\u001b[0;36;44m▒\u001b[0m\u001b[0;36;44m▒\u001b[0m\u001b[0;34;40m░\u001b[0m\u001b[0;34;40m░\u001b[0m\u001b[0;34;40m░\u001b[0m\u001b[0;34;40m░\u001b[0m\u001b[0;34;40m░\u001b[0m\u001b[0;34;40m░\u001b[0m\u001b[0;34;40m░\u001b[0m\u001b[0;34;40m░\u001b[0m\u001b[0;34;40m░\u001b[0m\u001b[0;34;40m░\u001b[0m\u001b[0;34;40m░\u001b[0m\u001b[0;34;40m░\u001b[0m\u001b[0;34;40m░\u001b[0m\u001b[0;34;40m░\u001b[0m\u001b[0;34;40m░\u001b[0m\u001b[0;34;40m░\u001b[0m\u001b[0;34;40m▓\u001b[0m\u001b[0;34;40m▓\u001b[0m\u001b[0;34;40m▓\u001b[0m\u001b[0;34;40m▓\u001b[0m\u001b[0;34;40m█\u001b[0m\u001b[0;34;40m█\u001b[0m\u001b[0;34;40m█\u001b[0m\u001b[0;34;40m█\u001b[0m ┼\n",
      "                         │ \u001b[0;34;40m░\u001b[0m\u001b[0;34;40m░\u001b[0m\u001b[0;34;40m░\u001b[0m\u001b[0;34;40m░\u001b[0m\u001b[0;34;40m▓\u001b[0m\u001b[0;34;40m▓\u001b[0m\u001b[0;34;40m▓\u001b[0m\u001b[0;34;40m▓\u001b[0m\u001b[0;34;40m▒\u001b[0m\u001b[0;34;40m▒\u001b[0m\u001b[0;34;40m▒\u001b[0m\u001b[0;34;40m▒\u001b[0m\u001b[0;34;40m░\u001b[0m\u001b[0;34;40m░\u001b[0m\u001b[0;34;40m░\u001b[0m\u001b[0;34;40m░\u001b[0m\u001b[0;34;40m▓\u001b[0m\u001b[0;34;40m▓\u001b[0m\u001b[0;34;40m▓\u001b[0m\u001b[0;34;40m▓\u001b[0m\u001b[0;34;40m▒\u001b[0m\u001b[0;34;40m▒\u001b[0m\u001b[0;34;40m▒\u001b[0m\u001b[0;34;40m▒\u001b[0m\u001b[0;34;40m▒\u001b[0m\u001b[0;34;40m▒\u001b[0m\u001b[0;34;40m▒\u001b[0m\u001b[0;34;40m▒\u001b[0m\u001b[0;36;44m▒\u001b[0m\u001b[0;36;44m▒\u001b[0m\u001b[0;36;44m▒\u001b[0m\u001b[0;36;44m▒\u001b[0m\u001b[0;34;40m▓\u001b[0m\u001b[0;34;40m▓\u001b[0m\u001b[0;34;40m▓\u001b[0m\u001b[0;34;40m▓\u001b[0m\u001b[0;34;40m░\u001b[0m\u001b[0;34;40m░\u001b[0m\u001b[0;34;40m░\u001b[0m\u001b[0;34;40m░\u001b[0m\u001b[0;37;42m█\u001b[0m\u001b[0;37;42m█\u001b[0m\u001b[0;37;42m█\u001b[0m\u001b[0;37;42m█\u001b[0m\u001b[0;32;46m▒\u001b[0m\u001b[0;32;46m▒\u001b[0m\u001b[0;32;46m▒\u001b[0m\u001b[0;32;46m▒\u001b[0m\u001b[0;34;40m▒\u001b[0m\u001b[0;34;40m▒\u001b[0m\u001b[0;34;40m▒\u001b[0m\u001b[0;34;40m▒\u001b[0m\u001b[0;34;40m▒\u001b[0m\u001b[0;34;40m▒\u001b[0m\u001b[0;34;40m▒\u001b[0m\u001b[0;34;40m▒\u001b[0m\u001b[0;34;40m░\u001b[0m\u001b[0;34;40m░\u001b[0m\u001b[0;34;40m░\u001b[0m\u001b[0;34;40m░\u001b[0m\u001b[0;34;40m░\u001b[0m\u001b[0;34;40m░\u001b[0m\u001b[0;34;40m░\u001b[0m\u001b[0;34;40m░\u001b[0m\u001b[0;36;44m▒\u001b[0m\u001b[0;36;44m▒\u001b[0m\u001b[0;36;44m▒\u001b[0m\u001b[0;36;44m▒\u001b[0m\u001b[0;34;40m█\u001b[0m\u001b[0;34;40m█\u001b[0m\u001b[0;34;40m█\u001b[0m\u001b[0;34;40m█\u001b[0m │\n",
      "2011-02-25T00:00:00.000Z ┼ \u001b[0;34;40m░\u001b[0m\u001b[0;34;40m░\u001b[0m\u001b[0;34;40m░\u001b[0m\u001b[0;34;40m░\u001b[0m\u001b[0;34;40m▓\u001b[0m\u001b[0;34;40m▓\u001b[0m\u001b[0;34;40m▓\u001b[0m\u001b[0;34;40m▓\u001b[0m\u001b[0;34;40m▒\u001b[0m\u001b[0;34;40m▒\u001b[0m\u001b[0;34;40m▒\u001b[0m\u001b[0;34;40m▒\u001b[0m\u001b[0;34;40m░\u001b[0m\u001b[0;34;40m░\u001b[0m\u001b[0;34;40m░\u001b[0m\u001b[0;34;40m░\u001b[0m\u001b[0;34;40m▓\u001b[0m\u001b[0;34;40m▓\u001b[0m\u001b[0;34;40m▓\u001b[0m\u001b[0;34;40m▓\u001b[0m\u001b[0;34;40m▒\u001b[0m\u001b[0;34;40m▒\u001b[0m\u001b[0;34;40m▒\u001b[0m\u001b[0;34;40m▒\u001b[0m\u001b[0;34;40m▒\u001b[0m\u001b[0;34;40m▒\u001b[0m\u001b[0;34;40m▒\u001b[0m\u001b[0;34;40m▒\u001b[0m\u001b[0;36;44m▒\u001b[0m\u001b[0;36;44m▒\u001b[0m\u001b[0;36;44m▒\u001b[0m\u001b[0;36;44m▒\u001b[0m\u001b[0;34;40m▓\u001b[0m\u001b[0;34;40m▓\u001b[0m\u001b[0;34;40m▓\u001b[0m\u001b[0;34;40m▓\u001b[0m\u001b[0;34;40m░\u001b[0m\u001b[0;34;40m░\u001b[0m\u001b[0;34;40m░\u001b[0m\u001b[0;34;40m░\u001b[0m\u001b[0;37;42m█\u001b[0m\u001b[0;37;42m█\u001b[0m\u001b[0;37;42m█\u001b[0m\u001b[0;37;42m█\u001b[0m\u001b[0;32;46m▒\u001b[0m\u001b[0;32;46m▒\u001b[0m\u001b[0;32;46m▒\u001b[0m\u001b[0;32;46m▒\u001b[0m\u001b[0;34;40m▒\u001b[0m\u001b[0;34;40m▒\u001b[0m\u001b[0;34;40m▒\u001b[0m\u001b[0;34;40m▒\u001b[0m\u001b[0;34;40m▒\u001b[0m\u001b[0;34;40m▒\u001b[0m\u001b[0;34;40m▒\u001b[0m\u001b[0;34;40m▒\u001b[0m\u001b[0;34;40m░\u001b[0m\u001b[0;34;40m░\u001b[0m\u001b[0;34;40m░\u001b[0m\u001b[0;34;40m░\u001b[0m\u001b[0;34;40m░\u001b[0m\u001b[0;34;40m░\u001b[0m\u001b[0;34;40m░\u001b[0m\u001b[0;34;40m░\u001b[0m\u001b[0;36;44m▒\u001b[0m\u001b[0;36;44m▒\u001b[0m\u001b[0;36;44m▒\u001b[0m\u001b[0;36;44m▒\u001b[0m\u001b[0;34;40m█\u001b[0m\u001b[0;34;40m█\u001b[0m\u001b[0;34;40m█\u001b[0m\u001b[0;34;40m█\u001b[0m ┼\n",
      "                         │     \u001b[0;34;40m▒\u001b[0m\u001b[0;34;40m▒\u001b[0m\u001b[0;34;40m▒\u001b[0m\u001b[0;34;40m▒\u001b[0m\u001b[0;34;40m░\u001b[0m\u001b[0;34;40m░\u001b[0m\u001b[0;34;40m░\u001b[0m\u001b[0;34;40m░\u001b[0m\u001b[0;34;40m░\u001b[0m\u001b[0;34;40m░\u001b[0m\u001b[0;34;40m░\u001b[0m\u001b[0;34;40m░\u001b[0m\u001b[0;34;40m░\u001b[0m\u001b[0;34;40m░\u001b[0m\u001b[0;34;40m░\u001b[0m\u001b[0;34;40m░\u001b[0m\u001b[0;34;40m░\u001b[0m\u001b[0;34;40m░\u001b[0m\u001b[0;34;40m░\u001b[0m\u001b[0;34;40m░\u001b[0m\u001b[0;34;40m░\u001b[0m\u001b[0;34;40m░\u001b[0m\u001b[0;34;40m░\u001b[0m\u001b[0;34;40m░\u001b[0m\u001b[0;34;40m░\u001b[0m\u001b[0;34;40m░\u001b[0m\u001b[0;34;40m░\u001b[0m\u001b[0;34;40m░\u001b[0m\u001b[0;34;40m░\u001b[0m\u001b[0;34;40m░\u001b[0m\u001b[0;34;40m░\u001b[0m\u001b[0;34;40m░\u001b[0m\u001b[0;34;40m░\u001b[0m\u001b[0;34;40m░\u001b[0m\u001b[0;34;40m░\u001b[0m\u001b[0;34;40m░\u001b[0m\u001b[0;34;40m█\u001b[0m\u001b[0;34;40m█\u001b[0m\u001b[0;34;40m█\u001b[0m\u001b[0;34;40m█\u001b[0m\u001b[0;34;40m▒\u001b[0m\u001b[0;34;40m▒\u001b[0m\u001b[0;34;40m▒\u001b[0m\u001b[0;34;40m▒\u001b[0m\u001b[0;34;40m░\u001b[0m\u001b[0;34;40m░\u001b[0m\u001b[0;34;40m░\u001b[0m\u001b[0;34;40m░\u001b[0m\u001b[0;34;40m░\u001b[0m\u001b[0;34;40m░\u001b[0m\u001b[0;34;40m░\u001b[0m\u001b[0;34;40m░\u001b[0m\u001b[0;34;40m░\u001b[0m\u001b[0;34;40m░\u001b[0m\u001b[0;34;40m░\u001b[0m\u001b[0;34;40m░\u001b[0m    \u001b[0;34;40m▓\u001b[0m\u001b[0;34;40m▓\u001b[0m\u001b[0;34;40m▓\u001b[0m\u001b[0;34;40m▓\u001b[0m\u001b[0;34;40m▒\u001b[0m\u001b[0;34;40m▒\u001b[0m\u001b[0;34;40m▒\u001b[0m\u001b[0;34;40m▒\u001b[0m │\n",
      "2010-11-27T00:00:00.000Z ┼     \u001b[0;34;40m▒\u001b[0m\u001b[0;34;40m▒\u001b[0m\u001b[0;34;40m▒\u001b[0m\u001b[0;34;40m▒\u001b[0m\u001b[0;34;40m░\u001b[0m\u001b[0;34;40m░\u001b[0m\u001b[0;34;40m░\u001b[0m\u001b[0;34;40m░\u001b[0m\u001b[0;34;40m░\u001b[0m\u001b[0;34;40m░\u001b[0m\u001b[0;34;40m░\u001b[0m\u001b[0;34;40m░\u001b[0m\u001b[0;34;40m░\u001b[0m\u001b[0;34;40m░\u001b[0m\u001b[0;34;40m░\u001b[0m\u001b[0;34;40m░\u001b[0m\u001b[0;34;40m░\u001b[0m\u001b[0;34;40m░\u001b[0m\u001b[0;34;40m░\u001b[0m\u001b[0;34;40m░\u001b[0m\u001b[0;34;40m░\u001b[0m\u001b[0;34;40m░\u001b[0m\u001b[0;34;40m░\u001b[0m\u001b[0;34;40m░\u001b[0m\u001b[0;34;40m░\u001b[0m\u001b[0;34;40m░\u001b[0m\u001b[0;34;40m░\u001b[0m\u001b[0;34;40m░\u001b[0m\u001b[0;34;40m░\u001b[0m\u001b[0;34;40m░\u001b[0m\u001b[0;34;40m░\u001b[0m\u001b[0;34;40m░\u001b[0m\u001b[0;34;40m░\u001b[0m\u001b[0;34;40m░\u001b[0m\u001b[0;34;40m░\u001b[0m\u001b[0;34;40m░\u001b[0m\u001b[0;34;40m█\u001b[0m\u001b[0;34;40m█\u001b[0m\u001b[0;34;40m█\u001b[0m\u001b[0;34;40m█\u001b[0m\u001b[0;34;40m▒\u001b[0m\u001b[0;34;40m▒\u001b[0m\u001b[0;34;40m▒\u001b[0m\u001b[0;34;40m▒\u001b[0m\u001b[0;34;40m░\u001b[0m\u001b[0;34;40m░\u001b[0m\u001b[0;34;40m░\u001b[0m\u001b[0;34;40m░\u001b[0m\u001b[0;34;40m░\u001b[0m\u001b[0;34;40m░\u001b[0m\u001b[0;34;40m░\u001b[0m\u001b[0;34;40m░\u001b[0m\u001b[0;34;40m░\u001b[0m\u001b[0;34;40m░\u001b[0m\u001b[0;34;40m░\u001b[0m\u001b[0;34;40m░\u001b[0m    \u001b[0;34;40m▓\u001b[0m\u001b[0;34;40m▓\u001b[0m\u001b[0;34;40m▓\u001b[0m\u001b[0;34;40m▓\u001b[0m\u001b[0;34;40m▒\u001b[0m\u001b[0;34;40m▒\u001b[0m\u001b[0;34;40m▒\u001b[0m\u001b[0;34;40m▒\u001b[0m ┼\n",
      "                         │     \u001b[0;34;40m▓\u001b[0m\u001b[0;34;40m▓\u001b[0m\u001b[0;34;40m▓\u001b[0m\u001b[0;34;40m▓\u001b[0m\u001b[0;34;40m▒\u001b[0m\u001b[0;34;40m▒\u001b[0m\u001b[0;34;40m▒\u001b[0m\u001b[0;34;40m▒\u001b[0m\u001b[0;34;40m░\u001b[0m\u001b[0;34;40m░\u001b[0m\u001b[0;34;40m░\u001b[0m\u001b[0;34;40m░\u001b[0m\u001b[0;34;40m░\u001b[0m\u001b[0;34;40m░\u001b[0m\u001b[0;34;40m░\u001b[0m\u001b[0;34;40m░\u001b[0m\u001b[0;34;40m▒\u001b[0m\u001b[0;34;40m▒\u001b[0m\u001b[0;34;40m▒\u001b[0m\u001b[0;34;40m▒\u001b[0m\u001b[0;34;40m░\u001b[0m\u001b[0;34;40m░\u001b[0m\u001b[0;34;40m░\u001b[0m\u001b[0;34;40m░\u001b[0m\u001b[0;34;40m░\u001b[0m\u001b[0;34;40m░\u001b[0m\u001b[0;34;40m░\u001b[0m\u001b[0;34;40m░\u001b[0m\u001b[0;34;40m░\u001b[0m\u001b[0;34;40m░\u001b[0m\u001b[0;34;40m░\u001b[0m\u001b[0;34;40m░\u001b[0m\u001b[0;34;40m░\u001b[0m\u001b[0;34;40m░\u001b[0m\u001b[0;34;40m░\u001b[0m\u001b[0;34;40m░\u001b[0m\u001b[0;34;40m▓\u001b[0m\u001b[0;34;40m▓\u001b[0m\u001b[0;34;40m▓\u001b[0m\u001b[0;34;40m▓\u001b[0m\u001b[0;34;40m▒\u001b[0m\u001b[0;34;40m▒\u001b[0m\u001b[0;34;40m▒\u001b[0m\u001b[0;34;40m▒\u001b[0m\u001b[0;34;40m░\u001b[0m\u001b[0;34;40m░\u001b[0m\u001b[0;34;40m░\u001b[0m\u001b[0;34;40m░\u001b[0m\u001b[0;34;40m▒\u001b[0m\u001b[0;34;40m▒\u001b[0m\u001b[0;34;40m▒\u001b[0m\u001b[0;34;40m▒\u001b[0m\u001b[0;34;40m░\u001b[0m\u001b[0;34;40m░\u001b[0m\u001b[0;34;40m░\u001b[0m\u001b[0;34;40m░\u001b[0m    \u001b[0;34;40m░\u001b[0m\u001b[0;34;40m░\u001b[0m\u001b[0;34;40m░\u001b[0m\u001b[0;34;40m░\u001b[0m\u001b[0;34;40m▒\u001b[0m\u001b[0;34;40m▒\u001b[0m\u001b[0;34;40m▒\u001b[0m\u001b[0;34;40m▒\u001b[0m │\n",
      "2010-08-29T00:00:00.000Z ┼     \u001b[0;34;40m▓\u001b[0m\u001b[0;34;40m▓\u001b[0m\u001b[0;34;40m▓\u001b[0m\u001b[0;34;40m▓\u001b[0m\u001b[0;34;40m▒\u001b[0m\u001b[0;34;40m▒\u001b[0m\u001b[0;34;40m▒\u001b[0m\u001b[0;34;40m▒\u001b[0m\u001b[0;34;40m░\u001b[0m\u001b[0;34;40m░\u001b[0m\u001b[0;34;40m░\u001b[0m\u001b[0;34;40m░\u001b[0m\u001b[0;34;40m░\u001b[0m\u001b[0;34;40m░\u001b[0m\u001b[0;34;40m░\u001b[0m\u001b[0;34;40m░\u001b[0m\u001b[0;34;40m▒\u001b[0m\u001b[0;34;40m▒\u001b[0m\u001b[0;34;40m▒\u001b[0m\u001b[0;34;40m▒\u001b[0m\u001b[0;34;40m░\u001b[0m\u001b[0;34;40m░\u001b[0m\u001b[0;34;40m░\u001b[0m\u001b[0;34;40m░\u001b[0m\u001b[0;34;40m░\u001b[0m\u001b[0;34;40m░\u001b[0m\u001b[0;34;40m░\u001b[0m\u001b[0;34;40m░\u001b[0m\u001b[0;34;40m░\u001b[0m\u001b[0;34;40m░\u001b[0m\u001b[0;34;40m░\u001b[0m\u001b[0;34;40m░\u001b[0m\u001b[0;34;40m░\u001b[0m\u001b[0;34;40m░\u001b[0m\u001b[0;34;40m░\u001b[0m\u001b[0;34;40m░\u001b[0m\u001b[0;34;40m▓\u001b[0m\u001b[0;34;40m▓\u001b[0m\u001b[0;34;40m▓\u001b[0m\u001b[0;34;40m▓\u001b[0m\u001b[0;34;40m▒\u001b[0m\u001b[0;34;40m▒\u001b[0m\u001b[0;34;40m▒\u001b[0m\u001b[0;34;40m▒\u001b[0m\u001b[0;34;40m░\u001b[0m\u001b[0;34;40m░\u001b[0m\u001b[0;34;40m░\u001b[0m\u001b[0;34;40m░\u001b[0m\u001b[0;34;40m▒\u001b[0m\u001b[0;34;40m▒\u001b[0m\u001b[0;34;40m▒\u001b[0m\u001b[0;34;40m▒\u001b[0m\u001b[0;34;40m░\u001b[0m\u001b[0;34;40m░\u001b[0m\u001b[0;34;40m░\u001b[0m\u001b[0;34;40m░\u001b[0m    \u001b[0;34;40m░\u001b[0m\u001b[0;34;40m░\u001b[0m\u001b[0;34;40m░\u001b[0m\u001b[0;34;40m░\u001b[0m\u001b[0;34;40m▒\u001b[0m\u001b[0;34;40m▒\u001b[0m\u001b[0;34;40m▒\u001b[0m\u001b[0;34;40m▒\u001b[0m ┼\n",
      "                         └──┼───┼───┼───┼───┼───┼───┼───┼───┼───┼───┼───┼───┼───┼───┼───┼───┼───┼───┘\n",
      "                          alien       detect     meeting      radio       signal       ufo\n",
      "                               code        form      project       seti       source       wiki\n",
      "                                community      help      question   setiquest   telescope      work\n"
     ]
    }
   ],
   "source": [
    "agg = Search(index=INDEX) \\\n",
    "    .agg_filters(\"keyword\", filters={\n",
    "        key: query.QueryString(f\"text: *{key}*\")\n",
    "        for key in KEYWORDS\n",
    "    }) \\\n",
    "    .agg_date_histogram(\"year\", fixed_interval=\"90d\", min_doc_count=0) \\\n",
    "    .metric_cardinality(\"users\", field=\"user\")\n",
    "\n",
    "agg.execute().dump.heatmap(cell_width=4, sort=(\"year\", \"keyword\"))"
   ]
  },
  {
   "cell_type": "code",
   "execution_count": 43,
   "metadata": {},
   "outputs": [
    {
     "name": "stdout",
     "output_type": "stream",
     "text": [
      "['code', 'release', 'summer', 'source', 'the', 'google', 'released', 'to', 'backendserver', 'gpl', 'sonata', 'documented', 'of', 'is', 'decoding', 'qr', 'documentation', 'gsoc', 'and', 'documenting', 'a', 'in', 'contributed', 'commented', 'license', 'it', 'modularization', 'radians', 'that', 'open', 'be', 'under', 'meta', 'base', 'releasing', 'contributions', 'development', 'someone', 'with', 'aspects', 'i', 'for', 'setiquest.org', 'we', 'doxygen', 'but', 'contribution', 'quiz', 'snapshot', 'angle', 'through', 'at', 'without', 'understand', 'write', 'review', 'separate', 'github', 'if', 'have', 'si', 'before', 'our', 'compatible', 'sourcing', 'helping', 'not', 'releases', 'lgpl', 'can', 'fftw', 'need', 'are', 'apache', 'so', 'mit', 'use', 'out', 'fftss', 'document', 'will', 'there', 'require', 'all', 'itself', 'otherwise', 'sell', 'buy', 'process', 'adding', 'do', 'commercial', 'library', 'some', 'licensed', 'from', 'than', 'think', 'or', 'this']\n"
     ]
    }
   ],
   "source": [
    "s = Search(index=INDEX).match(\"text\", \"code\")\n",
    "print(list(s.agg_significant_terms(field=\"text\", size=100).execute().keys()))"
   ]
  },
  {
   "cell_type": "code",
   "execution_count": null,
   "metadata": {},
   "outputs": [],
   "source": []
  },
  {
   "cell_type": "code",
   "execution_count": 57,
   "metadata": {},
   "outputs": [
    {
     "name": "stdout",
     "output_type": "stream",
     "text": [
      "a0                         │ a0.doc_count                               \n",
      "───────────────────────────┼────────────────────────────────────────────\n",
      "signal                     │ 242 \u001b[1;34m███████████████████████████████████████\u001b[0m\n",
      "the                        │ 240 \u001b[1;34m██████████████████████████████████████▋\u001b[0m\n",
      "to                         │ 164 \u001b[1;34m██████████████████████████▊            \u001b[0m\n",
      "signals                    │ 150 \u001b[1;34m████████████████████████▌              \u001b[0m\n",
      "a                          │ 146 \u001b[1;34m███████████████████████▉               \u001b[0m\n",
      "of                         │ 133 \u001b[1;34m█████████████████████▉                 \u001b[0m\n",
      "that                       │ 123 \u001b[1;34m████████████████████▍                  \u001b[0m\n",
      "is                         │ 115 \u001b[1;34m███████████████████                    \u001b[0m\n",
      "and                        │ 106 \u001b[1;34m█████████████████▋                     \u001b[0m\n",
      "in                         │  98 \u001b[1;34m████████████████▍                      \u001b[0m\n",
      "for                        │  78 \u001b[1;34m█████████████▎                         \u001b[0m\n",
      "data                       │  44 \u001b[1;34m███████▉                               \u001b[0m\n",
      "processing                 │  22 \u001b[1;34m████▌                                  \u001b[0m\n",
      "rfi                        │  20 \u001b[1;34m████                                   \u001b[0m\n",
      "fft                        │  19 \u001b[1;34m███▉                                   \u001b[0m\n",
      "baudline                   │  17 \u001b[1;34m███▋                                   \u001b[0m\n",
      "detection                  │  16 \u001b[1;34m███▌                                   \u001b[0m\n",
      "detect                     │  16 \u001b[1;34m███▌                                   \u001b[0m\n",
      "detected                   │  13 \u001b[1;34m███                                    \u001b[0m\n",
      "analyzer                   │  12 \u001b[1;34m██▉                                    \u001b[0m\n",
      "weak                       │  10 \u001b[1;34m██▌                                    \u001b[0m\n",
      "pulse                      │  10 \u001b[1;34m██▌                                    \u001b[0m\n",
      "algorithm                  │  10 \u001b[1;34m██▌                                    \u001b[0m\n",
      "noise                      │   9 \u001b[1;34m██▍                                    \u001b[0m\n",
      "bands                      │   9 \u001b[1;34m██▍                                    \u001b[0m\n",
      "ifft                       │   7 \u001b[1;34m██                                     \u001b[0m\n",
      "marked                     │   7 \u001b[1;34m██                                     \u001b[0m\n",
      "marking                    │   7 \u001b[1;34m██                                     \u001b[0m\n",
      "band                       │   7 \u001b[1;34m██                                     \u001b[0m\n",
      "et                         │   7 \u001b[1;34m██                                     \u001b[0m\n",
      "baudline.blogspot.com      │   7 \u001b[1;34m██                                     \u001b[0m\n",
      "room                       │   7 \u001b[1;34m██                                     \u001b[0m\n",
      "modulated                  │   6 \u001b[1;34m█▉                                     \u001b[0m\n",
      "markings                   │   6 \u001b[1;34m█▉                                     \u001b[0m\n",
      "dataset                    │   6 \u001b[1;34m█▉                                     \u001b[0m\n",
      "enhancement                │   5 \u001b[1;34m█▊                                     \u001b[0m\n",
      "spectrogram                │   5 \u001b[1;34m█▊                                     \u001b[0m\n",
      "eti                        │   5 \u001b[1;34m█▊                                     \u001b[0m\n",
      "sampling                   │   5 \u001b[1;34m█▊                                     \u001b[0m\n",
      "classify                   │   5 \u001b[1;34m█▊                                     \u001b[0m\n",
      "blogs.discovermagazine.com │   4 \u001b[1;34m█▋                                     \u001b[0m\n",
      "excited                    │   4 \u001b[1;34m█▋                                     \u001b[0m\n",
      "drifting                   │   3 \u001b[1;34m█▌                                     \u001b[0m\n",
      "sq_signals.c               │   3 \u001b[1;34m█▌                                     \u001b[0m\n",
      "bpsk                       │   3 \u001b[1;34m█▌                                     \u001b[0m\n",
      "intensity                  │   3 \u001b[1;34m█▌                                     \u001b[0m\n",
      "genetic                    │   3 \u001b[1;34m█▌                                     \u001b[0m\n",
      "fsk                        │   3 \u001b[1;34m█▌                                     \u001b[0m\n",
      "ratio                      │   3 \u001b[1;34m█▌                                     \u001b[0m\n",
      "trap                       │   3 \u001b[1;34m█▌                                     \u001b[0m\n"
     ]
    }
   ],
   "source": [
    "s = Search(index=INDEX).query_string(\"text: *signal*\")\n",
    "s.agg_significant_terms(field=\"text\", size=50).execute().dump.table(sort=\"-a0.doc_count\")"
   ]
  },
  {
   "cell_type": "code",
   "execution_count": null,
   "metadata": {},
   "outputs": [],
   "source": []
  },
  {
   "cell_type": "code",
   "execution_count": 7,
   "metadata": {
    "scrolled": false
   },
   "outputs": [
    {
     "data": {
      "text/plain": [
       "{'total': {'value': 10000, 'relation': 'gte'},\n",
       " 'max_score': 1.0,\n",
       " 'hits': [{'_index': 'elastipy-example-setiquest-irc',\n",
       "   '_type': '_doc',\n",
       "   '_id': '20100928-0',\n",
       "   '_score': 1.0,\n",
       "   '_source': {'index': 0,\n",
       "    'timestamp': '2010-09-28T10:59:00',\n",
       "    'raw_line': 'avinash: Welcome everyone.',\n",
       "    'user': 'avinash',\n",
       "    'event': 'write',\n",
       "    'text': 'Welcome everyone.',\n",
       "    'timestamp_hour': 10,\n",
       "    'timestamp_weekday': '2 Tuesday'}},\n",
       "  {'_index': 'elastipy-example-setiquest-irc',\n",
       "   '_type': '_doc',\n",
       "   '_id': '20100928-1',\n",
       "   '_score': 1.0,\n",
       "   '_source': {'index': 1,\n",
       "    'timestamp': '2010-09-28T11:00:00',\n",
       "    'raw_line': 'avinash: We can start off with everyone saying one sentence about themselves.',\n",
       "    'user': 'avinash',\n",
       "    'event': 'write',\n",
       "    'text': 'We can start off with everyone saying one sentence about themselves.',\n",
       "    'timestamp_hour': 11,\n",
       "    'timestamp_weekday': '2 Tuesday'}},\n",
       "  {'_index': 'elastipy-example-setiquest-irc',\n",
       "   '_type': '_doc',\n",
       "   '_id': '20100928-2',\n",
       "   '_score': 1.0,\n",
       "   '_source': {'index': 2,\n",
       "    'timestamp': '2010-09-28T11:00:00',\n",
       "    'raw_line': 'janebird joined the chat room.',\n",
       "    'user': 'janebird',\n",
       "    'event': 'join',\n",
       "    'timestamp_hour': 11,\n",
       "    'timestamp_weekday': '2 Tuesday'}},\n",
       "  {'_index': 'elastipy-example-setiquest-irc',\n",
       "   '_type': '_doc',\n",
       "   '_id': '20100928-3',\n",
       "   '_score': 1.0,\n",
       "   '_source': {'index': 3,\n",
       "    'timestamp': '2010-09-28T11:01:00',\n",
       "    'raw_line': 'avinash: I will start - My name is Avinash and I am responsible for co-ordinating various activities for the setiQuest project.',\n",
       "    'user': 'avinash',\n",
       "    'event': 'write',\n",
       "    'text': 'I will start - My name is Avinash and I am responsible for co-ordinating various activities for the setiQuest project.',\n",
       "    'timestamp_hour': 11,\n",
       "    'timestamp_weekday': '2 Tuesday'}},\n",
       "  {'_index': 'elastipy-example-setiquest-irc',\n",
       "   '_type': '_doc',\n",
       "   '_id': '20100928-4',\n",
       "   '_score': 1.0,\n",
       "   '_source': {'index': 4,\n",
       "    'timestamp': '2010-09-28T11:01:00',\n",
       "    'raw_line': 'Moradzadeh: Hi there.  Michael Moradzadeh here: retired technology lawyer/exec and member of SETI board',\n",
       "    'user': 'Moradzadeh',\n",
       "    'event': 'write',\n",
       "    'text': 'Hi there.  Michael Moradzadeh here: retired technology lawyer/exec and member of SETI board',\n",
       "    'timestamp_hour': 11,\n",
       "    'timestamp_weekday': '2 Tuesday'}},\n",
       "  {'_index': 'elastipy-example-setiquest-irc',\n",
       "   '_type': '_doc',\n",
       "   '_id': '20100928-5',\n",
       "   '_score': 1.0,\n",
       "   '_source': {'index': 5,\n",
       "    'timestamp': '2010-09-28T11:02:00',\n",
       "    'raw_line': 'Jill joined the chat room.',\n",
       "    'user': 'Jill',\n",
       "    'event': 'join',\n",
       "    'timestamp_hour': 11,\n",
       "    'timestamp_weekday': '2 Tuesday'}},\n",
       "  {'_index': 'elastipy-example-setiquest-irc',\n",
       "   '_type': '_doc',\n",
       "   '_id': '20100928-6',\n",
       "   '_score': 1.0,\n",
       "   '_source': {'index': 6,\n",
       "    'timestamp': '2010-09-28T11:02:00',\n",
       "    'raw_line': 'afeder: I am Anders - I have been interested in SETI since SETI@home and have been programming and using open source for fun for at least as long.',\n",
       "    'user': 'afeder',\n",
       "    'event': 'write',\n",
       "    'text': 'I am Anders - I have been interested in SETI since SETI@home and have been programming and using open source for fun for at least as long.',\n",
       "    'timestamp_hour': 11,\n",
       "    'timestamp_weekday': '2 Tuesday'}},\n",
       "  {'_index': 'elastipy-example-setiquest-irc',\n",
       "   '_type': '_doc',\n",
       "   '_id': '20100928-7',\n",
       "   '_score': 1.0,\n",
       "   '_source': {'index': 7,\n",
       "    'timestamp': '2010-09-28T11:02:00',\n",
       "    'raw_line': 'robackrman: SETI Inst. staff, team member ATA design & build, setiQuest contributor',\n",
       "    'user': 'robackrman',\n",
       "    'event': 'write',\n",
       "    'text': 'SETI Inst. staff, team member ATA design & build, setiQuest contributor',\n",
       "    'timestamp_hour': 11,\n",
       "    'timestamp_weekday': '2 Tuesday'}},\n",
       "  {'_index': 'elastipy-example-setiquest-irc',\n",
       "   '_type': '_doc',\n",
       "   '_id': '20100928-8',\n",
       "   '_score': 1.0,\n",
       "   '_source': {'index': 8,\n",
       "    'timestamp': '2010-09-28T11:02:00',\n",
       "    'raw_line': 'sigblips: Hi there. I like analyzing signals and I am the author of http://www.baudline.com',\n",
       "    'user': 'sigblips',\n",
       "    'event': 'write',\n",
       "    'text': 'Hi there. I like analyzing signals and I am the author of http://www.baudline.com',\n",
       "    'timestamp_hour': 11,\n",
       "    'timestamp_weekday': '2 Tuesday'}},\n",
       "  {'_index': 'elastipy-example-setiquest-irc',\n",
       "   '_type': '_doc',\n",
       "   '_id': '20100928-9',\n",
       "   '_score': 1.0,\n",
       "   '_source': {'index': 9,\n",
       "    'timestamp': '2010-09-28T11:04:00',\n",
       "    'raw_line': 'avinash: I am hoping that today we can identify things that need to be done for setiQuest - the highest priority things.',\n",
       "    'user': 'avinash',\n",
       "    'event': 'write',\n",
       "    'text': 'I am hoping that today we can identify things that need to be done for setiQuest - the highest priority things.',\n",
       "    'timestamp_hour': 11,\n",
       "    'timestamp_weekday': '2 Tuesday'}}]}"
      ]
     },
     "execution_count": 7,
     "metadata": {},
     "output_type": "execute_result"
    }
   ],
   "source": [
    "Search(index=INDEX).execute().hits"
   ]
  },
  {
   "cell_type": "code",
   "execution_count": null,
   "metadata": {},
   "outputs": [],
   "source": []
  },
  {
   "cell_type": "code",
   "execution_count": 8,
   "metadata": {},
   "outputs": [
    {
     "data": {
      "text/plain": [
       "{'_index': 'elastipy-example-setiquest-irc',\n",
       " '_type': '_doc',\n",
       " '_id': '20100928-3',\n",
       " '_version': 1,\n",
       " 'found': True,\n",
       " 'took': 0,\n",
       " 'term_vectors': {'text': {'field_statistics': {'sum_doc_freq': 254047,\n",
       "    'doc_count': 24371,\n",
       "    'sum_ttf': 272510},\n",
       "   'terms': {'activities': {'doc_freq': 9,\n",
       "     'ttf': 9,\n",
       "     'term_freq': 1,\n",
       "     'tokens': [{'position': 15, 'start_offset': 81, 'end_offset': 91}]},\n",
       "    'am': {'doc_freq': 621,\n",
       "     'ttf': 647,\n",
       "     'term_freq': 1,\n",
       "     'tokens': [{'position': 9, 'start_offset': 40, 'end_offset': 42}]},\n",
       "    'and': {'doc_freq': 3260,\n",
       "     'ttf': 3648,\n",
       "     'term_freq': 1,\n",
       "     'tokens': [{'position': 7, 'start_offset': 34, 'end_offset': 37}]},\n",
       "    'avinash': {'doc_freq': 314,\n",
       "     'ttf': 316,\n",
       "     'term_freq': 1,\n",
       "     'tokens': [{'position': 6, 'start_offset': 26, 'end_offset': 33}]},\n",
       "    'co': {'doc_freq': 8,\n",
       "     'ttf': 8,\n",
       "     'term_freq': 1,\n",
       "     'tokens': [{'position': 12, 'start_offset': 59, 'end_offset': 61}]},\n",
       "    'for': {'doc_freq': 2292,\n",
       "     'ttf': 2501,\n",
       "     'term_freq': 2,\n",
       "     'tokens': [{'position': 11, 'start_offset': 55, 'end_offset': 58},\n",
       "      {'position': 16, 'start_offset': 92, 'end_offset': 95}]},\n",
       "    'i': {'doc_freq': 5440,\n",
       "     'ttf': 6576,\n",
       "     'term_freq': 2,\n",
       "     'tokens': [{'position': 0, 'start_offset': 0, 'end_offset': 1},\n",
       "      {'position': 8, 'start_offset': 38, 'end_offset': 39}]},\n",
       "    'is': {'doc_freq': 4551,\n",
       "     'ttf': 5268,\n",
       "     'term_freq': 1,\n",
       "     'tokens': [{'position': 5, 'start_offset': 23, 'end_offset': 25}]},\n",
       "    'my': {'doc_freq': 705,\n",
       "     'ttf': 731,\n",
       "     'term_freq': 1,\n",
       "     'tokens': [{'position': 3, 'start_offset': 15, 'end_offset': 17}]},\n",
       "    'name': {'doc_freq': 69,\n",
       "     'ttf': 71,\n",
       "     'term_freq': 1,\n",
       "     'tokens': [{'position': 4, 'start_offset': 18, 'end_offset': 22}]},\n",
       "    'ordinating': {'doc_freq': 1,\n",
       "     'ttf': 1,\n",
       "     'term_freq': 1,\n",
       "     'tokens': [{'position': 13, 'start_offset': 62, 'end_offset': 72}]},\n",
       "    'project': {'doc_freq': 497,\n",
       "     'ttf': 543,\n",
       "     'term_freq': 1,\n",
       "     'tokens': [{'position': 19, 'start_offset': 110, 'end_offset': 117}]},\n",
       "    'responsible': {'doc_freq': 9,\n",
       "     'ttf': 9,\n",
       "     'term_freq': 1,\n",
       "     'tokens': [{'position': 10, 'start_offset': 43, 'end_offset': 54}]},\n",
       "    'setiquest': {'doc_freq': 1067,\n",
       "     'ttf': 1173,\n",
       "     'term_freq': 1,\n",
       "     'tokens': [{'position': 18, 'start_offset': 100, 'end_offset': 109}]},\n",
       "    'start': {'doc_freq': 279,\n",
       "     'ttf': 287,\n",
       "     'term_freq': 1,\n",
       "     'tokens': [{'position': 2, 'start_offset': 7, 'end_offset': 12}]},\n",
       "    'the': {'doc_freq': 8163,\n",
       "     'ttf': 11568,\n",
       "     'term_freq': 1,\n",
       "     'tokens': [{'position': 17, 'start_offset': 96, 'end_offset': 99}]},\n",
       "    'various': {'doc_freq': 12,\n",
       "     'ttf': 12,\n",
       "     'term_freq': 1,\n",
       "     'tokens': [{'position': 14, 'start_offset': 73, 'end_offset': 80}]},\n",
       "    'will': {'doc_freq': 1377,\n",
       "     'ttf': 1485,\n",
       "     'term_freq': 1,\n",
       "     'tokens': [{'position': 1, 'start_offset': 2, 'end_offset': 6}]}}}}}"
      ]
     },
     "execution_count": 8,
     "metadata": {},
     "output_type": "execute_result"
    }
   ],
   "source": [
    "conn.termvectors(\n",
    "    index=INDEX, \n",
    "    id=\"20100928-3\",\n",
    "    term_statistics=True,\n",
    "    field_statistics=True,\n",
    ")"
   ]
  },
  {
   "cell_type": "code",
   "execution_count": null,
   "metadata": {},
   "outputs": [],
   "source": []
  }
 ],
 "metadata": {
  "kernelspec": {
   "display_name": "Python 3",
   "language": "python",
   "name": "python3"
  },
  "language_info": {
   "codemirror_mode": {
    "name": "ipython",
    "version": 3
   },
   "file_extension": ".py",
   "mimetype": "text/x-python",
   "name": "python",
   "nbconvert_exporter": "python",
   "pygments_lexer": "ipython3",
   "version": "3.6.9"
  }
 },
 "nbformat": 4,
 "nbformat_minor": 4
}
