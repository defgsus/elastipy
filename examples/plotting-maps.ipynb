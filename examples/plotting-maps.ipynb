{
 "cells": [
  {
   "cell_type": "code",
   "execution_count": null,
   "id": "respected-trademark",
   "metadata": {},
   "outputs": [],
   "source": [
    "# hidden-but-run\n",
    "import sys\n",
    "sys.path.insert(0, \"..\")"
   ]
  },
  {
   "cell_type": "markdown",
   "id": "linear-frontier",
   "metadata": {},
   "source": [
    "# Plotting maps"
   ]
  },
  {
   "cell_type": "markdown",
   "id": "behind-privacy",
   "metadata": {},
   "source": [
    "Here are examples to plot geographic data using [plotly](https://plotly.com) and [matplotlib](https://matplotlib.org/). Matplotlib is probably the choice if you need a rendered image. \n",
    "Plotly creates interactive plots and has a *more modern* interface.  \n",
    "\n",
    "To handle the different geo-types returned by elasticsearch we first look at conversion utilities. [Skip it](#geo-centroid) if you just want to see pretty images."
   ]
  },
  {
   "cell_type": "markdown",
   "id": "thorough-startup",
   "metadata": {},
   "source": [
    "## Coordinate conversion"
   ]
  },
  {
   "cell_type": "markdown",
   "id": "dense-secretariat",
   "metadata": {},
   "source": [
    "A metric aggregation like :link:`geo_centroid <Aggregation.metric_geo_centroid>` already returns \n",
    "[latitude and longitude](https://en.wikipedia.org/wiki/Geographic_coordinate_system#Latitude_and_longitude)\n",
    "values.\n",
    "\n",
    "Bucket-aggregations like :link:`geotile_grid <Aggregation.agg_geotile_grid>` \n",
    "and :link:`geohash_grid <Aggregation.agg_geohash_grid>` return keys that can be **mapped**\n",
    "to geo-coordinates."
   ]
  },
  {
   "cell_type": "markdown",
   "id": "handy-christian",
   "metadata": {},
   "source": [
    "### map-tiles"
   ]
  },
  {
   "cell_type": "markdown",
   "id": "understood-folks",
   "metadata": {},
   "source": [
    "The :link:`geotile_grid <Aggregation.agg_geotile_grid>` aggregation uses *map-tiles* \n",
    "([wikipedia](https://en.wikipedia.org/wiki/Tiled_web_map)) as bucket keys. \n",
    "They represent `zoom`/`x`/`y` as seen below: "
   ]
  },
  {
   "cell_type": "code",
   "execution_count": null,
   "id": "filled-jamaica",
   "metadata": {},
   "outputs": [],
   "source": [
    "from elastipy import Search\n",
    "\n",
    "s = Search(index=\"elastipy-example-car-accidents\")\n",
    "\n",
    "agg = s.agg_geotile_grid(\"tiles\", field=\"location\", precision=6)\n",
    "\n",
    "agg.execute().to_dict()"
   ]
  },
  {
   "cell_type": "markdown",
   "id": "photographic-sender",
   "metadata": {},
   "source": [
    "To convert the keys to [geo-coordinates](https://en.wikipedia.org/wiki/Geographic_coordinate_system#Latitude_and_longitude) we can use a helper function in elastipy:"
   ]
  },
  {
   "cell_type": "code",
   "execution_count": null,
   "id": "greatest-economy",
   "metadata": {},
   "outputs": [],
   "source": [
    "from elastipy import geotile_to_lat_lon\n",
    "\n",
    "{\n",
    "    geotile_to_lat_lon(key): value\n",
    "    for key, value in agg.items()\n",
    "}"
   ]
  },
  {
   "cell_type": "markdown",
   "id": "pointed-communication",
   "metadata": {},
   "source": [
    "Becaue the tiles are actually **areas** the latitude and longitude just represent a single point within the area. The point can be defined as the ``offset`` parameter and defaults to ``(.5, .5)`` which is the center of the tile.\n",
    "\n",
    "Here we print the *top-left* and *bottom-right* coordinates for each map-tile:"
   ]
  },
  {
   "cell_type": "code",
   "execution_count": null,
   "id": "wooden-dairy",
   "metadata": {},
   "outputs": [],
   "source": [
    "for key, value in agg.items():\n",
    "    tl = geotile_to_lat_lon(key, offset=(0, 1))\n",
    "    bl = geotile_to_lat_lon(key, offset=(1, 0))\n",
    "    print(f\"{tl} - {bl}: {value}\")\n"
   ]
  },
  {
   "cell_type": "markdown",
   "id": "attempted-characteristic",
   "metadata": {},
   "source": [
    "### geohash"
   ]
  },
  {
   "cell_type": "markdown",
   "id": "surprised-bandwidth",
   "metadata": {},
   "source": [
    "The :link:`geohash_grid <Aggregation.agg_geohash_grid>` aggregation returns *geohash* \n",
    "([wikipedia](https://en.wikipedia.org/wiki/Geohash)) bucket keys."
   ]
  },
  {
   "cell_type": "code",
   "execution_count": null,
   "id": "constitutional-bailey",
   "metadata": {},
   "outputs": [],
   "source": [
    "from elastipy import Search\n",
    "\n",
    "s = Search(index=\"elastipy-example-car-accidents\")\n",
    "\n",
    "agg = s.agg_geohash_grid(\"tiles\", field=\"location\", precision=2)\n",
    "\n",
    "agg.execute().to_dict()"
   ]
  },
  {
   "cell_type": "markdown",
   "id": "ranking-trading",
   "metadata": {},
   "source": [
    "The [pygeohash](https://github.com/wdm0006/pygeohash) package can be used to translate them:"
   ]
  },
  {
   "cell_type": "code",
   "execution_count": null,
   "id": "documented-tragedy",
   "metadata": {},
   "outputs": [],
   "source": [
    "import pygeohash\n",
    "\n",
    "{\n",
    "    pygeohash.decode(key): value\n",
    "    for key, value in agg.items()\n",
    "}"
   ]
  },
  {
   "cell_type": "markdown",
   "id": "located-river",
   "metadata": {},
   "source": [
    "For convenience the pygeohash function is wrapped by `elastipy.geohash_to_lat_lon`."
   ]
  },
  {
   "cell_type": "markdown",
   "id": "endless-dryer",
   "metadata": {},
   "source": [
    "## plotly backend"
   ]
  },
  {
   "cell_type": "markdown",
   "id": "moving-vocabulary",
   "metadata": {},
   "source": [
    "The [plotly python library](https://plotly.com/python/) enables creating browser-based plots in python. It supports a range of [map plots](https://plotly.com/python/maps/). In particular the [mapbox](https://www.mapbox.com/) based plots are interesting because they use WebGL and render quite fast even for a large number of items. "
   ]
  },
  {
   "cell_type": "markdown",
   "id": "acute-vanilla",
   "metadata": {},
   "source": [
    "### geo-centroid"
   ]
  },
  {
   "cell_type": "markdown",
   "id": "systematic-grade",
   "metadata": {},
   "source": [
    "Let's plot an overview of the german car accidents (included in elastipy [examples](https://github.com/netzkolchose/elastipy/blob/development/examples/accidents_export.py)). "
   ]
  },
  {
   "cell_type": "code",
   "execution_count": null,
   "id": "incoming-colonial",
   "metadata": {},
   "outputs": [],
   "source": [
    "s = Search(index=\"elastipy-example-car-accidents\")\n",
    "agg = s.agg_terms(\"city\", field=\"city\", size=10000)\n",
    "agg = agg.metric_geo_centroid(\"location\", field=\"location\")\n",
    "\n",
    "df = agg.execute().df()\n",
    "print(f\"{df.shape[0]} cities\")\n",
    "df.head()"
   ]
  },
  {
   "cell_type": "markdown",
   "id": "deluxe-promotion",
   "metadata": {},
   "source": [
    "The :link:`geo_centroid <Aggregation.metric_geo_centroid>` aggregation above returns the center coordinate of all accidents within a city. (It's not necessarily the center of the city but the [centroid](https://en.wikipedia.org/wiki/Centroid) of all accidents that are assigned to the city.)\n",
    "\n",
    "Below we pass the pandas DataFrame to the plotly express function and tell it the names of the latitude and longitude columns. The number of accidents per city is also used for the color and size of the points."
   ]
  },
  {
   "cell_type": "code",
   "execution_count": null,
   "id": "expanded-jesus",
   "metadata": {},
   "outputs": [],
   "source": [
    "import plotly.express as px\n",
    "\n",
    "fig = px.scatter_mapbox(\n",
    "    df, \n",
    "    lat=\"location.lat\", lon=\"location.lon\", \n",
    "    color=\"city.doc_count\", opacity=.5, size=\"city.doc_count\",\n",
    "    zoom=4.8,\n",
    "    mapbox_style=\"carto-positron\",\n",
    "    hover_data=[\"city\"],\n",
    "    labels={\"city.doc_count\": \"number of accidents\"},\n",
    "    \n",
    ")\n",
    "fig.update_layout(margin={\"r\": 0, \"t\": 0, \"l\": 0, \"b\": 0})"
   ]
  },
  {
   "cell_type": "markdown",
   "id": "fantastic-aurora",
   "metadata": {},
   "source": [
    "The most amazing thing we should notice is that the federal state Mecklenburg-Vorpommern does not have any accidents! 🍀"
   ]
  },
  {
   "cell_type": "markdown",
   "id": "palestinian-lease",
   "metadata": {},
   "source": [
    "### density heatmap\n",
    "\n",
    "The plotly express tools are just lovely ♥ ❤️ ♥ ❤️ "
   ]
  },
  {
   "cell_type": "code",
   "execution_count": null,
   "id": "flexible-reach",
   "metadata": {},
   "outputs": [],
   "source": [
    "fig = px.density_mapbox(\n",
    "    df, \n",
    "    lat=\"location.lat\", lon=\"location.lon\", \n",
    "    z=\"city.doc_count\", \n",
    "    zoom=4.8,\n",
    "    mapbox_style=\"carto-positron\",\n",
    "    hover_data=[\"city\"],\n",
    "    labels={\"city.doc_count\": \"number of accidents\"},\n",
    ")\n",
    "fig.update_layout(margin={\"r\": 0, \"t\": 0, \"l\": 0, \"b\": 0})"
   ]
  },
  {
   "cell_type": "markdown",
   "id": "based-blues",
   "metadata": {},
   "source": [
    "### geohash_grid aggregation\n",
    "\n",
    "Below is the same data-set but aggregated with the :link:`geohash_grid <Aggregation.agg_geohash_grid>` aggregation. "
   ]
  },
  {
   "cell_type": "code",
   "execution_count": null,
   "id": "supported-dutch",
   "metadata": {},
   "outputs": [],
   "source": [
    "import plotly.graph_objects as go\n",
    "import plotly.express as px\n",
    "\n",
    "from elastipy import geotile_to_lat_lon \n",
    "\n",
    "s = Search(index=\"elastipy-example-car-accidents\")\n",
    "agg = s.agg_geotile_grid(\"location\", field=\"location\", precision=10, size=1000)\n",
    "\n",
    "df = agg.execute().df()\n",
    "\n",
    "# put lat and lon columns into dataframe\n",
    "df[[\"lat\", \"lon\"]] = list(df[\"location\"].map(geotile_to_lat_lon))\n",
    "print(df.head())\n",
    "\n",
    "fig = px.scatter_mapbox(\n",
    "    df, \n",
    "    lat=\"lat\", lon=\"lon\", \n",
    "    color=\"location.doc_count\", opacity=.5, size=\"location.doc_count\",\n",
    "    mapbox_style=\"carto-positron\",\n",
    "    zoom=5,\n",
    "    labels={\"location.doc_count\": \"number of accidents\"},\n",
    "    \n",
    ")\n",
    "fig.update_layout(margin={\"r\": 0, \"t\": 0, \"l\": 0, \"b\": 0})"
   ]
  },
  {
   "cell_type": "markdown",
   "id": "local-miami",
   "metadata": {},
   "source": [
    "### geotile_grid aggregation\n",
    "\n",
    "Let's see if we can do something with the :link:`geotile_grid aggregation <Aggregation.agg_geotile_grid>`. The lengthy function in the middle builds a list of lines connecting each corner in each returned map-tile.\n",
    "\n",
    "Unfortunately, the ``fillcolor`` in mapbox can only be one fixed color and does not support color scaling (like the [marker](https://plotly.com/python/reference/scattermapbox/#scattermapbox-marker-colorscale)).   \n",
    "If you know differently or have an idea how to color the rendered tiles according to aggregated values, \n",
    "[please let me know](https://github.com/netzkolchose/elastipy/issues)."
   ]
  },
  {
   "cell_type": "code",
   "execution_count": null,
   "id": "central-circular",
   "metadata": {},
   "outputs": [],
   "source": [
    "import plotly.graph_objects as go\n",
    "import plotly.colors\n",
    "\n",
    "from elastipy import Search, geotile_to_lat_lon \n",
    "\n",
    "s = Search(index=\"elastipy-example-car-accidents\")\n",
    "\n",
    "agg = s.agg_geotile_grid(\n",
    "    \"location\", \n",
    "    field=\"location\", precision=8, size=1000,\n",
    ")\n",
    "agg.execute()\n",
    "\n",
    "lat, lon = [], []\n",
    "for key, value in agg.items():\n",
    "    tl = geotile_to_lat_lon(key, offset=(0, 1))\n",
    "    tr = geotile_to_lat_lon(key, offset=(1, 1))\n",
    "    bl = geotile_to_lat_lon(key, offset=(0, 0))\n",
    "    br = geotile_to_lat_lon(key, offset=(1, 0))\n",
    "    lat += [tl[0], tr[0], br[0], bl[0], tl[0], None]\n",
    "    lon += [tl[1], tr[1], br[1], bl[1], tl[1], None]\n",
    "\n",
    "fig = go.Figure(go.Scattermapbox(\n",
    "    lat=lat, lon=lon,\n",
    "    fill=\"toself\",\n",
    "    fillcolor=\"rgba(0,0,0,.1)\",\n",
    "))\n",
    "fig.update_layout(\n",
    "    mapbox=dict(\n",
    "        style=\"carto-positron\",\n",
    "        zoom=5,\n",
    "        center=dict(lat=51., lon=10.3),\n",
    "    ),\n",
    "    margin={\"r\": 0, \"t\": 0, \"l\": 0, \"b\": 0},\n",
    ")"
   ]
  },
  {
   "cell_type": "markdown",
   "id": "absolute-playing",
   "metadata": {},
   "source": [
    "## matplotlib backend"
   ]
  },
  {
   "cell_type": "markdown",
   "id": "fatal-labor",
   "metadata": {},
   "source": [
    "Matplotlib does not come with specific geo functionality out-of-the-box. Instead a couple of additional libraries must be used."
   ]
  },
  {
   "cell_type": "markdown",
   "id": "removable-nylon",
   "metadata": {},
   "source": [
    "### geotile_grid aggregation\n",
    "\n",
    "Here is an example using [geopandas](https://geopandas.org/index.html). It extends the :link:`pandas.DataFrame` with the [geopandas.GeoDataFrame](https://geopandas.org/data_structures.html#geodataframe) class.\n",
    "\n",
    "The GeoDataFrame will pick the `\"geometry\"` column from a DataFrame by default. The values must be [shapely](https://github.com/Toblerity/Shapely) geometries."
   ]
  },
  {
   "cell_type": "code",
   "execution_count": null,
   "id": "sonic-leader",
   "metadata": {},
   "outputs": [],
   "source": [
    "# First we get a shapefile for the german administrative areas\n",
    "# This cell will not be in the docs because of below tag:\n",
    "# run-but-hide\n",
    "\n",
    "import os\n",
    "import zipfile\n",
    "from examples.helper import get_web_file\n",
    "\n",
    "filename_zip = get_web_file(\n",
    "    \"https://biogeo.ucdavis.edu/data/gadm3.6/shp/gadm36_DEU_shp.zip\",\n",
    "    \"gadm36_DEU_shp.zip\",\n",
    ")\n",
    "path = os.path.dirname(filename_zip)\n",
    "path\n",
    "\n",
    "with zipfile.ZipFile(filename_zip, \"r\") as zip_ref:\n",
    "    zip_ref.extractall(path)\n"
   ]
  },
  {
   "cell_type": "code",
   "execution_count": null,
   "id": "dated-hybrid",
   "metadata": {},
   "outputs": [],
   "source": [
    "from shapely.geometry import Point\n",
    "import geopandas\n",
    "import matplotlib.pyplot as plt\n",
    "import matplotlib.colors\n",
    "\n",
    "from elastipy import Search, geotile_to_lat_lon\n",
    "\n",
    "s = Search(index=\"elastipy-example-car-accidents\")\n",
    "agg = s.agg_geotile_grid(\"location\", field=\"location\", precision=10)\n",
    "\n",
    "df = agg.execute().df()\n",
    "\n",
    "# take hash from location column, \n",
    "#   convert to latitude and longitude\n",
    "#   and create a shapely.Point \n",
    "#   (which expects longitude, latitude)\n",
    "df[\"geometry\"] = df.pop(\"location\").map(\n",
    "    lambda v: Point(geotile_to_lat_lon(v)[::-1])\n",
    ")\n",
    "\n",
    "# have a color for each point with matplotlib tools\n",
    "cmap = plt.cm.magma\n",
    "norm = matplotlib.colors.Normalize(\n",
    "    df[\"location.doc_count\"].min(), df[\"location.doc_count\"].max()\n",
    ")\n",
    "df[\"color\"] = df[\"location.doc_count\"].map(lambda v: cmap(norm(v))[:3] + (.5,))\n",
    "\n",
    "gdf = geopandas.GeoDataFrame(df)\n",
    "\n",
    "fig, ax = plt.subplots(figsize=(10, 10))\n",
    "# plot a shapefile from https://biogeo.ucdavis.edu/data/gadm3.6\n",
    "geopandas.read_file(\"cache/gadm36_DEU_1.shp\").plot(ax=ax, color=\"#e0e0e0\")\n",
    "\n",
    "gdf.plot(\n",
    "    c=gdf[\"color\"], markersize=gdf[\"location.doc_count\"] / 3,\n",
    "    aspect=1.3, \n",
    "    ax=ax,\n",
    ")"
   ]
  }
 ],
 "metadata": {
  "kernelspec": {
   "display_name": "Python 3",
   "language": "python",
   "name": "python3"
  },
  "language_info": {
   "codemirror_mode": {
    "name": "ipython",
    "version": 3
   },
   "file_extension": ".py",
   "mimetype": "text/x-python",
   "name": "python",
   "nbconvert_exporter": "python",
   "pygments_lexer": "ipython3",
   "version": "3.6.9"
  }
 },
 "nbformat": 4,
 "nbformat_minor": 5
}
