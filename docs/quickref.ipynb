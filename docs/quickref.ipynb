{
 "cells": [
  {
   "cell_type": "code",
   "execution_count": null,
   "metadata": {},
   "outputs": [],
   "source": [
    "# run-but-hidden\n",
    "\n",
    "# here we just add the project root path to \n",
    "# the path list where python modules are searched.\n",
    "# So we find elastipy even if it's not installed via setup.py\n",
    "import sys\n",
    "sys.path.insert(0, \"..\")"
   ]
  },
  {
   "cell_type": "code",
   "execution_count": null,
   "metadata": {},
   "outputs": [],
   "source": [
    "# run-but-hidden\n",
    "# we create some data to display in the quickref\n",
    "# CAREFUL! This destroys an index called \"world\" in your elastisearch!\n",
    "\n",
    "import random\n",
    "import datetime\n",
    "from elastipy import Exporter\n",
    "\n",
    "class WorldExporter(Exporter):\n",
    "    INDEX_NAME = \"world\"\n",
    "    MAPPINGS = {\n",
    "        \"properties\": {\n",
    "            \"timestamp\": {\"type\": \"date\"},\n",
    "            \"occasion\": {\"type\": \"keyword\"},\n",
    "            \"excuse\": {\"type\": \"keyword\"},\n",
    "            \"conversation_length\": {\"type\": \"float\"},\n",
    "        }\n",
    "    }\n",
    "    \n",
    "def iter_documents(count=200):\n",
    "    EXCUSES = [\n",
    "        \"tastes awful\",\n",
    "        \"too salty\",\n",
    "        \"smells repellent\",\n",
    "    ]\n",
    "    RARE_EXCUSES = [\n",
    "        \"my mouth is too dry\", \n",
    "        \"i can't reach the spoon\"\n",
    "    ]\n",
    "    rnd = random.Random(98374934)\n",
    "    for i in range(count):\n",
    "        yield {\n",
    "            \"timestamp\": (\n",
    "                datetime.datetime(2000, 1, 1) \n",
    "                + datetime.timedelta(days=rnd.randint(0, 20))\n",
    "            ),\n",
    "            \"occasion\": \"dinner\",\n",
    "            \"excuse\": rnd.choice(EXCUSES) if i < count - 3 else RARE_EXCUSES[(i-count) % 2],\n",
    "            \"conversation_length\": rnd.randint(5, 200),\n",
    "        }\n",
    "        \n",
    "exporter = WorldExporter()\n",
    "exporter.delete_index()\n",
    "count, errors = exporter.export_list(iter_documents(), refresh=True)\n",
    "assert not errors"
   ]
  },
  {
   "cell_type": "code",
   "execution_count": null,
   "metadata": {
    "scrolled": false
   },
   "outputs": [],
   "source": [
    "# run-but-hidden\n",
    "# we create some data to display in the quickref\n",
    "# CAREFUL! This destroys an index called \"prog-world\" in your elastisearch!\n",
    "\n",
    "import random\n",
    "import datetime\n",
    "from elastipy import Exporter\n",
    "\n",
    "class ProgWorldExporter(Exporter):\n",
    "    INDEX_NAME = \"prog-world\"\n",
    "    MAPPINGS = {\n",
    "        \"properties\": {\n",
    "            \"category\": {\"type\": \"keyword\"},\n",
    "            \"usage\": {\"type\": \"keyword\"},\n",
    "            \"topic\": {\"type\": \"keyword\"},\n",
    "            \"country\": {\"type\": \"keyword\"},\n",
    "            \"language\": {\"type\": \"keyword\"},\n",
    "        }\n",
    "    }\n",
    "    \n",
    "def iter_documents(count=200):\n",
    "    rnd = random.Random(343984)\n",
    "    for i in range(count):\n",
    "        yield {\n",
    "            \"category\": \"programming\",\n",
    "            \"usage\": \"widely-used\",\n",
    "            \"topic\": rnd.choice([\n",
    "                \"yet-another-api\", \"yet-another-operator-overload\",\n",
    "            ]),\n",
    "            \"country\": rnd.choice([\"ES\", \"US\", \"IT\"]),\n",
    "            \"language\": rnd.choice([\"Python\", \"C++\", \"PHP\"]),\n",
    "        }\n",
    "        \n",
    "exporter = ProgWorldExporter()\n",
    "exporter.delete_index()\n",
    "count, errors = exporter.export_list(iter_documents(), refresh=True)\n",
    "assert not errors"
   ]
  },
  {
   "cell_type": "markdown",
   "metadata": {},
   "source": [
    "### configuration "
   ]
  },
  {
   "cell_type": "markdown",
   "metadata": {},
   "source": [
    "By default an [elasticsearch](https://www.elastic.co/guide/en/elasticsearch/reference/current/elasticsearch-intro.html) host is expected at `localhost:9200`. There are currently two ways \n",
    "to specify a different connection."
   ]
  },
  {
   "cell_type": "code",
   "execution_count": null,
   "metadata": {},
   "outputs": [],
   "source": [
    "from elasticsearch import Elasticsearch\n",
    "from elastipy import Search\n",
    "\n",
    "# Use an explicit Elasticsearch client (or compatible class)\n",
    "client = Elasticsearch(\n",
    "    hosts=[{\"host\": \"localhost\", \"port\": 9200}], \n",
    "    http_auth=(\"user\", \"pwd\")\n",
    ")\n",
    "\n",
    "# create a Search using the specified client\n",
    "s = Search(index=\"bla\", client=client)\n",
    "\n",
    "# can also be done later\n",
    "s = s.client(client)"
   ]
  },
  {
   "cell_type": "markdown",
   "metadata": {},
   "source": [
    "Check the Elasticsearch [API reference](https://elasticsearch-py.readthedocs.io/en/v7.10.1/api.html#elasticsearch) for all the parameters.\n",
    "\n",
    "We can also set a default client at the program start:  "
   ]
  },
  {
   "cell_type": "code",
   "execution_count": null,
   "metadata": {},
   "outputs": [],
   "source": [
    "from elastipy import connections\n",
    "\n",
    "connections.set(\"default\", client)\n",
    "\n",
    "# .. or as parameters, they get converted to an Elasticsearch client\n",
    "connections.set(\"default\", {\"hosts\": [{\"host\": \"localhost\", \"port\": 9200}]})\n",
    "\n",
    "# get a client\n",
    "connections.get(\"default\")"
   ]
  },
  {
   "cell_type": "markdown",
   "metadata": {},
   "source": [
    "Different connections can be specified with the *alias* name:"
   ]
  },
  {
   "cell_type": "code",
   "execution_count": null,
   "metadata": {},
   "outputs": [],
   "source": [
    "connections.set(\"special\", {\"hosts\": [{\"host\": \"special\", \"port\": 1234}]})\n",
    "\n",
    "s = Search(client=\"special\")\n",
    "s.get_client()"
   ]
  },
  {
   "cell_type": "markdown",
   "metadata": {},
   "source": [
    "### aggregations"
   ]
  },
  {
   "cell_type": "markdown",
   "metadata": {},
   "source": [
    "More details can be found in the [tutorial](https://elastipy.readthedocs.io/en/latest/tutorial.html)."
   ]
  },
  {
   "cell_type": "code",
   "execution_count": null,
   "metadata": {},
   "outputs": [],
   "source": [
    "# get a search object\n",
    "s = Search(index=\"world\")\n",
    "\n",
    "# create an Aggregation class connected to the Search\n",
    "agg = s.agg_date_histogram(calendar_interval=\"1w\")\n",
    "# (for date-specific aggregations we can leave out the 'field' parameter \n",
    "#  it fall's back to Search.timestamp_field which is \"timestamp\" by default)\n",
    "\n",
    "# submit the whole request\n",
    "s.execute()\n",
    "\n",
    "# access the response\n",
    "\n",
    "list(agg.keys())"
   ]
  },
  {
   "cell_type": "code",
   "execution_count": null,
   "metadata": {},
   "outputs": [],
   "source": [
    "list(agg.values())"
   ]
  },
  {
   "cell_type": "markdown",
   "metadata": {},
   "source": [
    "Without a [metric](https://www.elastic.co/guide/en/elasticsearch/reference/current/search-aggregations-metrics.html) these numbers are the document counts.\n",
    "\n",
    "Above example as a one-liner:"
   ]
  },
  {
   "cell_type": "code",
   "execution_count": null,
   "metadata": {},
   "outputs": [],
   "source": [
    "Search(index=\"world\").agg_date_histogram(calendar_interval=\"1w\").execute().to_dict()"
   ]
  },
  {
   "cell_type": "markdown",
   "metadata": {},
   "source": [
    "### nested aggregations and metrics"
   ]
  },
  {
   "cell_type": "code",
   "execution_count": null,
   "metadata": {},
   "outputs": [],
   "source": [
    "s = Search(index=\"world\")\n",
    "\n",
    "# the first parameter is the name of the aggregation \n",
    "#   (if omitted it will be \"a0\", \"a1\", aso..)  \n",
    "agg = s \\\n",
    "    .agg_terms(\"occasion\", field=\"occasion\") \\\n",
    "    .agg_rare_terms(\"rare-excuses\", field=\"excuse\", max_doc_count=2) \\\n",
    "    .metric_avg(\"avg-length\", field=\"conversation_length\") \\\n",
    "    .metric_max(\"max-length\", field=\"conversation_length\") \\\n",
    "    .execute()"
   ]
  },
  {
   "cell_type": "markdown",
   "metadata": {},
   "source": [
    "The `rare_terms` aggregation is nested into the `terms` aggregation and \n",
    "the metrics are siblings nested inside `rare_terms`.\n",
    "\n",
    "`keys()`, `values()`, `items()` and `to_dict()` all operate on the current aggregation.\n",
    "For bucket aggregations they typically show the `doc_count` value.'"
   ]
  },
  {
   "cell_type": "code",
   "execution_count": null,
   "metadata": {},
   "outputs": [],
   "source": [
    "agg.to_dict()"
   ]
  },
  {
   "cell_type": "markdown",
   "metadata": {},
   "source": [
    "The `rows()`, `dict_rows()` and `dump.table()` methods operate on the whole aggregation branch:"
   ]
  },
  {
   "cell_type": "code",
   "execution_count": null,
   "metadata": {},
   "outputs": [],
   "source": [
    "list(agg.dict_rows())"
   ]
  },
  {
   "cell_type": "code",
   "execution_count": null,
   "metadata": {},
   "outputs": [],
   "source": [
    "agg.dump.table(colors=False)"
   ]
  },
  {
   "cell_type": "markdown",
   "metadata": {},
   "source": [
    "### queries"
   ]
  },
  {
   "cell_type": "code",
   "execution_count": null,
   "metadata": {},
   "outputs": [],
   "source": [
    "from elastipy import query\n",
    "\n",
    "s = Search(index=\"prog-world\")\n",
    "\n",
    "# chaining means AND\n",
    "s = s \\\n",
    "    .term(field=\"category\", value=\"programming\") \\\n",
    "    .term(\"usage\", \"widely-used\")\n",
    "\n",
    "# also can use operators\n",
    "s = s & (\n",
    "    query.Term(\"topic\", \"yet-another-api\") \n",
    "    | query.Term(\"topic\", \"yet-another-operator-overload\")\n",
    ")\n",
    "\n",
    "# .query() replaces the current query \n",
    "s = s.query(query.MatchAll())\n",
    "\n",
    "languages_per_country = s.agg_terms(field=\"country\").agg_terms(field=\"language\").execute()\n",
    "\n",
    "languages_per_country.to_dict()"
   ]
  },
  {
   "cell_type": "markdown",
   "metadata": {},
   "source": [
    "### exporting"
   ]
  },
  {
   "cell_type": "markdown",
   "metadata": {},
   "source": [
    "There is a small helper to export stuff to elasticsearch."
   ]
  },
  {
   "cell_type": "code",
   "execution_count": null,
   "metadata": {},
   "outputs": [],
   "source": [
    "# run-but-hidden\n",
    "a_lot_of_objects = [\n",
    "    {\n",
    "        \"some_field\": \"\", \n",
    "        \"id\": i,\n",
    "        \"group\": \"group\",\n",
    "    }\n",
    "    for i in range(1000)\n",
    "]"
   ]
  },
  {
   "cell_type": "code",
   "execution_count": null,
   "metadata": {},
   "outputs": [],
   "source": [
    "from elastipy import Exporter\n",
    "\n",
    "class MyExporter(Exporter):\n",
    "    INDEX_NAME = \"my-index\"\n",
    "    \n",
    "    # mapping can be defined here\n",
    "    # it will be sent to elasticsearch before the first document is exported \n",
    "    MAPPINGS = {\n",
    "        \"properties\": {\n",
    "            \"some_field\": {\"type\": \"text\"},\n",
    "        }       \n",
    "    }   \n",
    "\n",
    "count, errors = MyExporter().export_list(a_lot_of_objects)\n",
    "\n",
    "print(f\"expored {count} objects, errors: {errors}\")"
   ]
  },
  {
   "cell_type": "markdown",
   "metadata": {},
   "source": [
    "It uses bulk requests and is very fast, supports document transformation and\n",
    "control over id and sub-index of documents."
   ]
  },
  {
   "cell_type": "code",
   "execution_count": null,
   "metadata": {},
   "outputs": [],
   "source": [
    "import datetime\n",
    "\n",
    "class MyExporter(Exporter):\n",
    "    INDEX_NAME = \"my-index-*\"\n",
    "    MAPPINGS = {\n",
    "        \"properties\": {\n",
    "            \"some_field\": {\"type\": \"text\"},\n",
    "            \"group\": {\"type\": \"keyword\"},\n",
    "            \"id\": {\"type\": \"keyword\"},\n",
    "            \"timestamp\": {\"type\": \"date\"},\n",
    "        }       \n",
    "    }   \n",
    "\n",
    "    # if each document has a unique id value we can use it\n",
    "    # as the elasticsearch id as well. That way we do not\n",
    "    # create documents twice when exporting them again.\n",
    "    # Their data just gets updated.\n",
    "    def get_document_id(self, es_data):\n",
    "        return es_data[\"id\"]\n",
    "    \n",
    "    # we can bucket documents into separate indices \n",
    "    def get_document_index(self, es_data):\n",
    "        return self.index_name().replace(\"*\", es_data[\"group\"])\n",
    "    \n",
    "    # here we can adjust or add some data before it gets exported.\n",
    "    # it's also possible to split the data into several documents\n",
    "    #   by yielding or returning a list\n",
    "    def transform_document(self, data):\n",
    "        data = data.copy()\n",
    "        data[\"timestamp\"] = datetime.datetime.now()\n",
    "        return data\n",
    "\n",
    "MyExporter().export_list(a_lot_of_objects)"
   ]
  },
  {
   "cell_type": "markdown",
   "metadata": {},
   "source": [
    "If we are tired enough we can call:"
   ]
  },
  {
   "cell_type": "code",
   "execution_count": null,
   "metadata": {},
   "outputs": [],
   "source": [
    "MyExporter().delete_index()"
   ]
  },
  {
   "cell_type": "markdown",
   "metadata": {},
   "source": [
    "This will actually delete all sub-indices because there's this wildcard `*` in the `INDEX_NAME`.\n"
   ]
  },
  {
   "cell_type": "code",
   "execution_count": null,
   "metadata": {},
   "outputs": [],
   "source": [
    "# run-but-hidden\n",
    "\n",
    "# finally, the notebook is rendered and we remove those crappy indices\n",
    "\n",
    "WorldExporter().delete_index()\n",
    "_ = ProgWorldExporter().delete_index()"
   ]
  }
 ],
 "metadata": {
  "kernelspec": {
   "display_name": "Python 3",
   "language": "python",
   "name": "python3"
  },
  "language_info": {
   "codemirror_mode": {
    "name": "ipython",
    "version": 3
   },
   "file_extension": ".py",
   "mimetype": "text/x-python",
   "name": "python",
   "nbconvert_exporter": "python",
   "pygments_lexer": "ipython3",
   "version": "3.6.9"
  }
 },
 "nbformat": 4,
 "nbformat_minor": 4
}
